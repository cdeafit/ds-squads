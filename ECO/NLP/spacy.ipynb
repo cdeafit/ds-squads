{
 "cells": [
  {
   "cell_type": "code",
   "execution_count": 1,
   "metadata": {},
   "outputs": [],
   "source": [
    "import spacy\n",
    "from spacy.lang.es import Spanish\n"
   ]
  },
  {
   "cell_type": "code",
   "execution_count": 2,
   "metadata": {},
   "outputs": [],
   "source": [
    "nlp = Spanish()"
   ]
  },
  {
   "cell_type": "code",
   "execution_count": 3,
   "metadata": {},
   "outputs": [],
   "source": [
    "doc = nlp('Muy buena la atención, la comida la sirven calientica recien preparada, la entrada la sirvieron en 10 minutos después de ordenar y la comida 15 minutos después de eso. La carta tiene mucha variedad de comida pero es muy extensa. El lugar muy bonito, limpio, bien decorado, meseros amables.')"
   ]
  },
  {
   "cell_type": "code",
   "execution_count": 4,
   "metadata": {},
   "outputs": [
    {
     "output_type": "stream",
     "name": "stdout",
     "text": [
      "indice:  [0, 1, 2, 3, 4, 5, 6, 7, 8, 9, 10, 11, 12, 13, 14, 15, 16, 17, 18, 19, 20, 21, 22, 23, 24, 25, 26, 27, 28, 29, 30, 31, 32, 33, 34, 35, 36, 37, 38, 39, 40, 41, 42, 43, 44, 45, 46, 47, 48, 49, 50, 51, 52, 53, 54, 55, 56]\n\nTexto:  ['Muy', 'buena', 'la', 'atención', ',', 'la', 'comida', 'la', 'sirven', 'calientica', 'recien', 'preparada', ',', 'la', 'entrada', 'la', 'sirvieron', 'en', '10', 'minutos', 'después', 'de', 'ordenar', 'y', 'la', 'comida', '15', 'minutos', 'después', 'de', 'eso', '.', 'La', 'carta', 'tiene', 'mucha', 'variedad', 'de', 'comida', 'pero', 'es', 'muy', 'extensa', '.', 'El', 'lugar', 'muy', 'bonito', ',', 'limpio', ',', 'bien', 'decorado', ',', 'meseros', 'amables', '.']\n\nis_alpha:  [True, True, True, True, False, True, True, True, True, True, True, True, False, True, True, True, True, True, False, True, True, True, True, True, True, True, False, True, True, True, True, False, True, True, True, True, True, True, True, True, True, True, True, False, True, True, True, True, False, True, False, True, True, False, True, True, False]\n\nis_punct:  [False, False, False, False, True, False, False, False, False, False, False, False, True, False, False, False, False, False, False, False, False, False, False, False, False, False, False, False, False, False, False, True, False, False, False, False, False, False, False, False, False, False, False, True, False, False, False, False, True, False, True, False, False, True, False, False, True]\n\nlike_num:  [False, False, False, False, False, False, False, False, False, False, False, False, False, False, False, False, False, False, True, False, False, False, False, False, False, False, True, False, False, False, False, False, False, False, False, False, False, False, False, False, False, False, False, False, False, False, False, False, False, False, False, False, False, False, False, False, False]\n\nla atención\n"
     ]
    }
   ],
   "source": [
    "# Conocer el indice de cada palabra\n",
    "print( 'indice: ', [token.i for token in doc])\n",
    "print('')\n",
    "\n",
    "#imprime cada palabara del texto\n",
    "print( 'Texto: ', [token.text for token in doc])\n",
    "print('')\n",
    "\n",
    "# True si es una palabra\n",
    "print( 'is_alpha: ', [token.is_alpha for token in doc])\n",
    "print('')\n",
    "\n",
    "# True si es un caracter\n",
    "print( 'is_punct: ', [token.is_punct for token in doc])\n",
    "print('')\n",
    "\n",
    "# True si es un número\n",
    "print('like_num: ', [token.like_num for token in doc])\n",
    "print('')\n",
    "\n",
    "#buscar un token especifico:\n",
    "span = doc[2:4]\n",
    "print(span.text)"
   ]
  },
  {
   "cell_type": "code",
   "execution_count": 11,
   "metadata": {},
   "outputs": [],
   "source": [
    "nlp1 = spacy.load('es_core_news_sm')\n",
    "doc = nlp1('Muy buena la atención, la comida la sirven calientica recien preparada, la entrada la sirvieron en 10 minutos después de ordenar y la comida 15 minutos después de eso. La carta tiene mucha variedad de comida pero es muy extensa. El lugar muy bonito, limpio, bien decorado, meseros amables.')"
   ]
  },
  {
   "cell_type": "code",
   "execution_count": 13,
   "metadata": {},
   "outputs": [
    {
     "output_type": "error",
     "ename": "AttributeError",
     "evalue": "'spacy.tokens.token.Token' object has no attribute 'label_'",
     "traceback": [
      "\u001b[1;31m---------------------------------------------------------------------------\u001b[0m",
      "\u001b[1;31mAttributeError\u001b[0m                            Traceback (most recent call last)",
      "\u001b[1;32m<ipython-input-13-9cbc90fe23a9>\u001b[0m in \u001b[0;36m<module>\u001b[1;34m\u001b[0m\n\u001b[1;32m----> 1\u001b[1;33m \u001b[1;32mfor\u001b[0m \u001b[0mtoken\u001b[0m \u001b[1;32min\u001b[0m \u001b[0mdoc\u001b[0m\u001b[1;33m:\u001b[0m \u001b[0mprint\u001b[0m\u001b[1;33m(\u001b[0m\u001b[0mtoken\u001b[0m\u001b[1;33m.\u001b[0m\u001b[0mtext\u001b[0m\u001b[1;33m,\u001b[0m \u001b[0mtoken\u001b[0m\u001b[1;33m.\u001b[0m\u001b[0mpos_\u001b[0m\u001b[1;33m,\u001b[0m \u001b[0mtoken\u001b[0m\u001b[1;33m.\u001b[0m\u001b[0mlabel_\u001b[0m\u001b[1;33m)\u001b[0m\u001b[1;33m\u001b[0m\u001b[1;33m\u001b[0m\u001b[0m\n\u001b[0m",
      "\u001b[1;31mAttributeError\u001b[0m: 'spacy.tokens.token.Token' object has no attribute 'label_'"
     ]
    }
   ],
   "source": [
    "for token in doc: print(token.text, token.pos_)"
   ]
  },
  {
   "cell_type": "code",
   "execution_count": null,
   "metadata": {},
   "outputs": [],
   "source": []
  }
 ],
 "metadata": {
  "kernelspec": {
   "name": "python395jvsc74a57bd0774ed1dedce2923a8e59184d2f2897b48c3ced8b2f91d46b17cc30305ca595af",
   "display_name": "Python 3.9.5 64-bit"
  },
  "language_info": {
   "codemirror_mode": {
    "name": "ipython",
    "version": 3
   },
   "file_extension": ".py",
   "mimetype": "text/x-python",
   "name": "python",
   "nbconvert_exporter": "python",
   "pygments_lexer": "ipython3",
   "version": "3.9.5"
  }
 },
 "nbformat": 4,
 "nbformat_minor": 4
}