{
 "cells": [
  {
   "cell_type": "code",
   "execution_count": 2,
   "metadata": {},
   "outputs": [],
   "source": [
    "#initials\n",
    "import requests\n",
    "from bs4 import BeautifulSoup\n",
    "baseUrl = 'https://orientacion.universia.net.co/'"
   ]
  },
  {
   "cell_type": "code",
   "execution_count": 4,
   "metadata": {},
   "outputs": [
    {
     "output_type": "stream",
     "name": "stdout",
     "text": [
      "\n"
     ]
    }
   ],
   "source": [
    "#initial info scrapper \n",
    "url = baseUrl + \"/buscar5/pregrados-en-medellin/1/26.html\"\n",
    "r = requests.get(url)\n",
    "soup = BeautifulSoup(r.content, 'html.parser')\n",
    "soup.prettify()\n",
    "print(\"\")"
   ]
  },
  {
   "cell_type": "code",
   "execution_count": 5,
   "metadata": {},
   "outputs": [],
   "source": [
    "#info extraction for every carreer\n",
    "pages = []\n",
    "for a in soup.findAll(\"article\"):\n",
    "    link=a.find('a')\n",
    "    r2 = requests.get(baseUrl+str(link['href']))\n",
    "    soup2 = BeautifulSoup(r2.content, 'html.parser') \n",
    "    pages.append(soup2.prettify())   "
   ]
  },
  {
   "cell_type": "code",
   "execution_count": 8,
   "metadata": {},
   "outputs": [
    {
     "output_type": "execute_result",
     "data": {
      "text/plain": [
       "      SNIES                                Registro calificado  \\\n",
       "0    101342        Resolución 10628 del 40869, vigencia 7 años   \n",
       "1    107303  Resolución 14036 del 15 de agosto de 2018, Vig...   \n",
       "2     54693         Resolución 3347 del 41712, vigencia 7 años   \n",
       "3    103135         Resolución 3343 del 41712, vigencia 7 años   \n",
       "4      1249  Resolución 04422 del 08 de abril de 2015, vige...   \n",
       "..      ...                                                ...   \n",
       "348  103604  Resolución 13045 del 13 de agosto del 2014. Vi...   \n",
       "349  103166    Resolución 3891 de marzo 20  de 2014 por 7 años   \n",
       "350   12037      Resolución 2882 de marzo 6 de 2015 por 7 años   \n",
       "351    1203         Resolución 1246 del 40595, vigencia 8 años   \n",
       "352  105928  Resolución 19892 del 18 de octubre de 2016, vi...   \n",
       "\n",
       "    Nivel de formación              Tipo de formación  \\\n",
       "0             Posgrado                      Doctorado   \n",
       "1             Posgrado                       Maestría   \n",
       "2             Posgrado  Especialización Universitaria   \n",
       "3             Posgrado  Especialización Universitaria   \n",
       "4             Pregrado                  Universitaria   \n",
       "..                 ...                            ...   \n",
       "348           Posgrado                      Doctorado   \n",
       "349           Posgrado                       Maestría   \n",
       "350           Posgrado                       Maestría   \n",
       "351           Pregrado                  Universitaria   \n",
       "352           Posgrado  Especialización Universitaria   \n",
       "\n",
       "                                       Título otorgado   Modalidad  \\\n",
       "0                          Doctor En Ciencias Sociales  Presencial   \n",
       "1     Magíster en Ciencias de los Datos y la Analítica  Presencial   \n",
       "2    Especialista En Gestión E Intervención Del Pat...  Presencial   \n",
       "3    Especialista En Legislación Financiera Y Del M...  Presencial   \n",
       "4                              Ingeniero de Producción  Presencial   \n",
       "..                                                 ...         ...   \n",
       "348                    Doctor en Ingeniería Matemática  Presencial   \n",
       "349  Magíster en tecnologías de la información y la...  Presencial   \n",
       "350                          Magister En Epidemiologia  Presencial   \n",
       "351                                  Ingeniero Quimico  Presencial   \n",
       "352                               Diseñador Crossmedia  Presencial   \n",
       "\n",
       "         Duración Créditos  \n",
       "0     8 Semestres      102  \n",
       "1     4 semestres      NaN  \n",
       "2     2 Semestres       26  \n",
       "3     2 Semestres       26  \n",
       "4    10 Semestres      178  \n",
       "..            ...      ...  \n",
       "348   8 Semestres       92  \n",
       "349        2 Años       52  \n",
       "350   4 Semestres       56  \n",
       "351  10 Semestres      160  \n",
       "352   8 Semestres      141  \n",
       "\n",
       "[353 rows x 8 columns]"
      ],
      "text/html": "<div>\n<style scoped>\n    .dataframe tbody tr th:only-of-type {\n        vertical-align: middle;\n    }\n\n    .dataframe tbody tr th {\n        vertical-align: top;\n    }\n\n    .dataframe thead th {\n        text-align: right;\n    }\n</style>\n<table border=\"1\" class=\"dataframe\">\n  <thead>\n    <tr style=\"text-align: right;\">\n      <th></th>\n      <th>SNIES</th>\n      <th>Registro calificado</th>\n      <th>Nivel de formación</th>\n      <th>Tipo de formación</th>\n      <th>Título otorgado</th>\n      <th>Modalidad</th>\n      <th>Duración</th>\n      <th>Créditos</th>\n    </tr>\n  </thead>\n  <tbody>\n    <tr>\n      <th>0</th>\n      <td>101342</td>\n      <td>Resolución 10628 del 40869, vigencia 7 años</td>\n      <td>Posgrado</td>\n      <td>Doctorado</td>\n      <td>Doctor En Ciencias Sociales</td>\n      <td>Presencial</td>\n      <td>8 Semestres</td>\n      <td>102</td>\n    </tr>\n    <tr>\n      <th>1</th>\n      <td>107303</td>\n      <td>Resolución 14036 del 15 de agosto de 2018, Vig...</td>\n      <td>Posgrado</td>\n      <td>Maestría</td>\n      <td>Magíster en Ciencias de los Datos y la Analítica</td>\n      <td>Presencial</td>\n      <td>4 semestres</td>\n      <td>NaN</td>\n    </tr>\n    <tr>\n      <th>2</th>\n      <td>54693</td>\n      <td>Resolución 3347 del 41712, vigencia 7 años</td>\n      <td>Posgrado</td>\n      <td>Especialización Universitaria</td>\n      <td>Especialista En Gestión E Intervención Del Pat...</td>\n      <td>Presencial</td>\n      <td>2 Semestres</td>\n      <td>26</td>\n    </tr>\n    <tr>\n      <th>3</th>\n      <td>103135</td>\n      <td>Resolución 3343 del 41712, vigencia 7 años</td>\n      <td>Posgrado</td>\n      <td>Especialización Universitaria</td>\n      <td>Especialista En Legislación Financiera Y Del M...</td>\n      <td>Presencial</td>\n      <td>2 Semestres</td>\n      <td>26</td>\n    </tr>\n    <tr>\n      <th>4</th>\n      <td>1249</td>\n      <td>Resolución 04422 del 08 de abril de 2015, vige...</td>\n      <td>Pregrado</td>\n      <td>Universitaria</td>\n      <td>Ingeniero de Producción</td>\n      <td>Presencial</td>\n      <td>10 Semestres</td>\n      <td>178</td>\n    </tr>\n    <tr>\n      <th>...</th>\n      <td>...</td>\n      <td>...</td>\n      <td>...</td>\n      <td>...</td>\n      <td>...</td>\n      <td>...</td>\n      <td>...</td>\n      <td>...</td>\n    </tr>\n    <tr>\n      <th>348</th>\n      <td>103604</td>\n      <td>Resolución 13045 del 13 de agosto del 2014. Vi...</td>\n      <td>Posgrado</td>\n      <td>Doctorado</td>\n      <td>Doctor en Ingeniería Matemática</td>\n      <td>Presencial</td>\n      <td>8 Semestres</td>\n      <td>92</td>\n    </tr>\n    <tr>\n      <th>349</th>\n      <td>103166</td>\n      <td>Resolución 3891 de marzo 20  de 2014 por 7 años</td>\n      <td>Posgrado</td>\n      <td>Maestría</td>\n      <td>Magíster en tecnologías de la información y la...</td>\n      <td>Presencial</td>\n      <td>2 Años</td>\n      <td>52</td>\n    </tr>\n    <tr>\n      <th>350</th>\n      <td>12037</td>\n      <td>Resolución 2882 de marzo 6 de 2015 por 7 años</td>\n      <td>Posgrado</td>\n      <td>Maestría</td>\n      <td>Magister En Epidemiologia</td>\n      <td>Presencial</td>\n      <td>4 Semestres</td>\n      <td>56</td>\n    </tr>\n    <tr>\n      <th>351</th>\n      <td>1203</td>\n      <td>Resolución 1246 del 40595, vigencia 8 años</td>\n      <td>Pregrado</td>\n      <td>Universitaria</td>\n      <td>Ingeniero Quimico</td>\n      <td>Presencial</td>\n      <td>10 Semestres</td>\n      <td>160</td>\n    </tr>\n    <tr>\n      <th>352</th>\n      <td>105928</td>\n      <td>Resolución 19892 del 18 de octubre de 2016, vi...</td>\n      <td>Posgrado</td>\n      <td>Especialización Universitaria</td>\n      <td>Diseñador Crossmedia</td>\n      <td>Presencial</td>\n      <td>8 Semestres</td>\n      <td>141</td>\n    </tr>\n  </tbody>\n</table>\n<p>353 rows × 8 columns</p>\n</div>"
     },
     "metadata": {},
     "execution_count": 8
    }
   ],
   "source": [
    "import requests\n",
    "from bs4 import BeautifulSoup\n",
    "import re\n",
    "import pandas as pd\n",
    "baseUrl = 'https://orientacion.universia.net.co/'\n",
    "\n",
    "def get_search_results():\n",
    "    url = baseUrl + \"/buscar5/pregrados-en-medellin/1/26.html\"\n",
    "    r = requests.get(url)\n",
    "    soup = BeautifulSoup(r.content, 'html.parser')\n",
    "    return soup.prettify()\n",
    "\n",
    "def get_all_carreers():\n",
    "    soup = get_search_results()\n",
    "    pages = []\n",
    "    for a in soup.findAll(\"article\"):\n",
    "        link=a.find('a')\n",
    "        r = requests.get(baseUrl+str(link['href']))\n",
    "        page = BeautifulSoup(r.content, 'html.parser') \n",
    "        pages.append(page.prettify()) \n",
    "    return pages\n",
    "\n",
    "def file_print(text):\n",
    "    f = open(\"file2.txt\", \"w\", encoding='utf-8')\n",
    "    f.write(text)\n",
    "    f.close()\n",
    "\n",
    "def get_data_from_file():\n",
    "    f = open(\"file.txt\", \"r\", encoding='utf-8')\n",
    "    return f.read().split(\"xd\"*5)[:-1]\n",
    "\n",
    "\n",
    "\n",
    "\n",
    "def get_table(soup):\n",
    "    soup = BeautifulSoup(soup, 'html.parser')\n",
    "    table = soup.find(\"table\", {\"class\": \"TablaSnies\"})\n",
    "    rows = table.findAll('tr')\n",
    "    data = [[td.findChildren(text=True) for td in tr.findAll(\"td\")] for tr in rows]\n",
    "    return data\n",
    "\n",
    "def get_tables(careers):\n",
    "    careers_data = []\n",
    "\n",
    "    for career in careers:\n",
    "        career_data = {}\n",
    "        career = get_table(career)\n",
    "        for attr in career:\n",
    "\n",
    "            try:\n",
    "                column = attr[0][1].strip(\" \\n \")[:-1]\n",
    "                value =  attr[1][0].strip(\" \\n \")\n",
    "                career_data[column] = value\n",
    "            except:\n",
    "                continue\n",
    "        careers_data.append(career_data)\n",
    "    return careers_data\n",
    "    \n",
    "careers = get_data_from_file()\n",
    "df = pd.DataFrame.from_dict(get_tables(careers))\n",
    "df\n"
   ]
  },
  {
   "cell_type": "code",
   "execution_count": null,
   "metadata": {},
   "outputs": [],
   "source": []
  }
 ],
 "metadata": {
  "kernelspec": {
   "name": "python395jvsc74a57bd0774ed1dedce2923a8e59184d2f2897b48c3ced8b2f91d46b17cc30305ca595af",
   "display_name": "Python 3.9.5 64-bit"
  }
 },
 "nbformat": 4,
 "nbformat_minor": 5
}