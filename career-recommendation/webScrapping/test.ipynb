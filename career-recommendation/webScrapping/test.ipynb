{
 "cells": [
  {
   "cell_type": "code",
   "execution_count": 11,
   "metadata": {},
   "outputs": [],
   "source": [
    "import json\n",
    "import pandas as pd\n",
    "import regex as rx"
   ]
  },
  {
   "cell_type": "code",
   "execution_count": 12,
   "metadata": {},
   "outputs": [
    {
     "output_type": "stream",
     "name": "stdout",
     "text": [
      "0                                      campos de accion\n1                                     objeto de estudio\n2                                                      \n3                                                      \n4     abordar el sistema juridico como conjunto de n...\n5     campos de accionel administrador de empresas d...\n6     objeto de estudioel cuidado del animal que se ...\n7     campos de accionel profesional de contaduria p...\n8                                                      \n9     perfil profesional:el programa de medicina def...\n10                                   perfil profesional\n11    perfil profesionalel perfil profesional del li...\n12    perfil profesional:enfasis en telecomunicacion...\n13    perfil profesionalel egresado de la maestria e...\n14    perfil profesionalel licenciado de la licencia...\n15    perfil profesionalel perfil profesional del ec...\n16    perfil profesionalla esencia de su ejercicio p...\n17    perfil profesional:en cuanto a su quehacer pro...\n18        perfil profesionalmodalidad de investigacion:\n19    profesionalel programa de fisica forma profesi...\n20    perfil profesionalel egresado del programa de ...\n21    perfil profesional el contador publico de la u...\n22                                   perfil ocupacional\n23    perfil profesional buscar, obtener y analizar ...\n24    perfil profesionalel programa de ingenieria de...\n25    perfil profesional el programa en artes visual...\n26                                   perfil profesional\n27    perfil profesional:el tecnologo (a) en proceso...\n28    perfil tecnologico el tecnologo en topografia,...\n29                                   perfil profesional\n30    perfil profesional el ingeniero de sistemas y ...\n31    perfil profesional el trabajador social como: ...\n32    perfil profesionalen el escenario de la seguri...\n33    perfil profesionalpara el programa licenciatur...\n34    perfil profesionalel doctor en ciencias de la ...\n35    perfil profesional:el egresado de la carrera d...\n36    perfil profesionalel tecnologo (a) en procesos...\n37    perfil profesionalel egresado del programa de ...\n38                                   perfil profesional\n39    perfil profesionalel profesional en administra...\n40    perfil profesional:el ingeniero (a) civil de l...\n41    perfil profesional el (a) administrador(a) fin...\n42                          perfil profesionalconocedor\n43    profesional los beneficiarios directos de esta...\n44                 perfil tecnologico en obras civiles:\n45    perfil profesionalel biologo (a), que se forma...\n46    perfil profesionalel licenciado en literatura ...\n47    perfil profesionalel programa de tecnologia en...\n48    perfil profesional:el licenciado en educacion ...\n49    perfil profesionalfundamentacion cientifica: a...\nName: detalles, dtype: object\n"
     ]
    }
   ],
   "source": [
    "f = open('file.txt', 'r')\n",
    "data = json.load(f)\n",
    "df = pd.DataFrame.from_dict(data)\n",
    "print(df['detalles'].head(50))"
   ]
  },
  {
   "cell_type": "code",
   "execution_count": 13,
   "metadata": {},
   "outputs": [
    {
     "output_type": "execute_result",
     "data": {
      "text/plain": [
       "1                                contaduria publica\n",
       "2                                           derecho\n",
       "3                                        psicologia\n",
       "5                        administracion de empresas\n",
       "6                  medicina veterinaria y zootecnia\n",
       "                           ...                     \n",
       "2920     licenciatura en lenguas extranjeras ingles\n",
       "2923            licenciatura en educacion religiosa\n",
       "2926     tecnologia en gestion financiera - virtual\n",
       "2928    tecnologia en gestion de mercadeo - virtual\n",
       "2936                           regencia de farmacia\n",
       "Name: pregrado, Length: 415, dtype: object"
      ]
     },
     "metadata": {},
     "execution_count": 13
    }
   ],
   "source": [
    "extr = df[df['Nivel de formación'] == \"pregrado\"]\n",
    "extr2 = extr['pregrado'].drop_duplicates()\n",
    "extr2"
   ]
  },
  {
   "cell_type": "code",
   "execution_count": 14,
   "metadata": {},
   "outputs": [],
   "source": [
    "ingenieria = extr[extr['pregrado'].str.contains('ingenieria') &\n",
    "extr['pregrado'].str.contains('sistemas')]\n",
    "ingenieria2 = ingenieria['pregrado'].drop_duplicates()\n"
   ]
  },
  {
   "cell_type": "code",
   "execution_count": 15,
   "metadata": {},
   "outputs": [],
   "source": [
    "def predict_career(language, math, humanity, science, english):\n",
    "    import random\n",
    "    \n",
    "    careers = ['NEGOCIOS INTERNACIONALES', 'INGENIERIA INDUSTRIAL', 'PSICOLOGIA', 'COMUNICACION SOCIAL- PERIODISMO', 'COMUNICACION SOCIAL', 'ADMINISTRACION DE EMPRESAS', 'DERECHO', 'INGENIERIA AMBIENTAL', 'CONTADURIA PUBLICA', 'INGENIERIA MECANICA', 'INGENIERIA CIVIL', 'TRABAJO SOCIAL', 'NUTRICION Y DIETETICA', 'ECONOMIA', 'ODONTOLOGIA', 'ARQUITECTURA', 'LICENCIATURA EN EDUCACION PREESCOLAR', 'SOCIOLOGIA', 'FONOAUDIOLOGIA', 'ADMINISTRACION DE NEGOCIOS', 'INGENIERIA QUIMICA', 'LICENCIATURA EN PEDAGOGÍA INFANTIL', 'CONTADURÍA PÚBLICA', 'MEDICINA VETERINARIA', 'INGENIERIA DE SISTEMAS', 'INGENIERIA ELECTRONICA', 'INGENIERIA DE PETROLEOS', 'INGENIERIA BIOMEDICA', 'INGENIERIA AMBIENTAL Y SANITARIA', 'ENFERMERIA', 'MEDICINA VETERINARIA Y ZOOTECNIA', 'COMERCIO INTERNACIONAL', 'BIOLOGIA', 'INGENIERIA ELECTRICA', 'ADMINISTRACION DE NEGOCIOS INTERNACIONALES', 'INGENIERIA MECATRONICA', 'CIENCIA POLITICA', 'ADMINISTRACIÓN DE EMPRESAS', 'COMUNICACION SOCIAL Y PERIODISMO', 'MEDICINA', 'RELACIONES INTERNACIONALES', 'LICENCIATURA EN PEDAGOGIA INFANTIL', 'ADMINISTRACIÓN EN SALUD OCUPACIONAL', 'CIENCIAS MILITARES', 'MERCADEO', 'INSTRUMENTACION QUIRURGICA', 'DISEÑO INDUSTRIAL', 'LICENCIATURA EN CIENCIAS SOCIALES', 'FISIOTERAPIA', 'DISEÑO GRAFICO', 'PSICOLOGÍA', 'PUBLICIDAD', 'SALUD OCUPACIONAL', 'INGENIERIA AGRONOMICA']\n",
    "\n",
    "    careers_prob = dict()\n",
    "    \n",
    "    for c in careers:\n",
    "        careers_prob[c] = random.random()\n",
    "        \n",
    "        \n",
    "    return careers_prob\n"
   ]
  },
  {
   "cell_type": "code",
   "execution_count": 58,
   "metadata": {},
   "outputs": [],
   "source": [
    "def get_pregrados_info(nombres):\n",
    "    f = open('file.txt', 'r')\n",
    "    data = json.load(f)\n",
    "    tp = pd.DataFrame.from_dict(data) #tabla pregrados\n",
    "    tablas = {}\n",
    "    for nombre in nombres:\n",
    "        reg = \"\"\n",
    "        reg += '('\n",
    "        for palabra in nombre.split(' '):\n",
    "            if len(palabra) > 3:\n",
    "                reg += '.*' + palabra\n",
    "        reg += '.*)'\n",
    "        tablas[nombre] = tp[tp['pregrado'].str.match(reg)].to_json(orient=\"records\")\n",
    "    return tablas \n"
   ]
  },
  {
   "cell_type": "code",
   "execution_count": 59,
   "metadata": {},
   "outputs": [],
   "source": [
    "def sort_porcentajes(diccionario_pregrados):\n",
    "    return {k: v for k, v in sorted(diccionario_pregrados.items(), key=lambda item: item[1], reverse = True)}"
   ]
  },
  {
   "cell_type": "code",
   "execution_count": 60,
   "metadata": {},
   "outputs": [
    {
     "output_type": "execute_result",
     "data": {
      "text/plain": [
       "['contaduria publica',\n",
       " 'ingenieria civil',\n",
       " 'licenciatura en pedagogia infantil']"
      ]
     },
     "metadata": {},
     "execution_count": 60
    }
   ],
   "source": [
    "dictionario = predict_career(1,1,1,1,1)\n",
    "sorted_dict = sort_porcentajes(dictionario)\n",
    "best_careers = list(sorted_dict)[:3]\n",
    "best_careers = [career.lower() for career in best_careers]\n",
    "best_careers"
   ]
  },
  {
   "cell_type": "code",
   "execution_count": 71,
   "metadata": {},
   "outputs": [
    {
     "output_type": "execute_result",
     "data": {
      "text/plain": [
       "versidad cooperativa de colombia - santa marta esta capacitado para el desempe\\\\u00f1o de sus actividades profesionales dentro de los siguientes campos: estructural, geotecnia, hidraulica, vias y transporte, construccion, ambiental y sanitaria.\",\"SNIES\":\"7821\",\"Registro calificado\":\"resolucion 14017 del 15 de agosto de 2018, vigencia 7 a\\\\u00f1os\",\"Nivel de formaci\\\\u00f3n\":\"pregrado\",\"Tipo de formaci\\\\u00f3n\":\"universitaria\",\"T\\\\u00edtulo otorgado\":\"ingeniero civil\",\"Modalidad\":\"presencial\",\"Duraci\\\\u00f3n\":\"10 semestres\",\"Cr\\\\u00e9ditos\":\"167\",\"Ciudad\":\"santa marta\"},{\"pregrado\":\"ingenieria civil\",\"Universidad\":\"universidad santo tomas - tunja\",\"detalles\":\"la universidad santo tomas, poseedora de su tradicion, calidad y sentido humanistico brinda sus mejores recursos para respaldar a la comunidad colombiana y especificamente a la de la region centro- oriental, en la capacitacion del personal que liderara los procesos de innovacion tecnologico-informatica para las mejores organizaciones del pais, conjugando en la academia espacios formativos derivados de la investigacion, innovacion y extension, segun estandares internacionales en la disciplina.\",\"Descripcion\":\"el desarrollo tecnologico prima en el presente y futuro de cualquier organizacion, razon que estimula la adopcion de nuevas disciplinas orientadas a su dominio. la ingenieria de sistemas corresponde a tal necesidad y brinda a sus profesionales el refinamiento de las destrezas necesarias para gestionar y desarrollar proyectos informaticos que vinculen al software, los dispositivos, las redes de telecomunicaciones y la inteligencia artificial, como sustento de amplios sistemas de informacion, para los cuales la calidad es una caracteristica de primera linea.\",\"SNIES\":\"7750\",\"Registro calificado\":\"resolucion 16291 del 12 de diciembre de 2012, vigencia 7 a\\\\u00f1os\",\"Nivel de formaci\\\\u00f3n\":\"pregrado\",\"Tipo de formaci\\\\u00f3n\":\"universitaria\",\"T\\\\u00edtulo otorgado\":\"ingeniero civil\",\"Modalidad\":\"presencial\",\"Duraci\\\\u00f3n\":\"10 semestres\",\"Cr\\\\u00e9ditos\":\"150\",\"Ciudad\":\"tunja\"},{\"pregrado\":\"maestria en ingenieria civil con enfasis en hidroambiental\",\"Universidad\":\"universidad santo tomas - tunja\",\"detalles\":\"\",\"Descripcion\":\"el programa de maestria en ingenieria civil con enfasis en hidroambiental desde su concepcion al interior de la universidad santo tomas, seccional tunja, busca adecuarse a los parametros academicos nacionales e internacionales en materia de posgrados en ingenieria. desde el marco de la formacion integral se orienta a formar magisteres caracterizados por actuar eticamente con alto sentido de responsabilidad profesional y social, haciendo un uso racional, eficiente y sostenible de los recursos hidricos y ambientales.\",\"SNIES\":\"102414\",\"Registro calificado\":\"resolucion 3329 del 05 de abril de 2013, vigencia 7 a\\\\u00f1os\",\"Nivel de formaci\\\\u00f3n\":\"posgrado\",\"Tipo de formaci\\\\u00f3n\":\"maestria\",\"T\\\\u00edtulo otorgado\":\"magister en ingenieria civil area:  hidroambiental\",\"Modalidad\":\"presencial\",\"Duraci\\\\u00f3n\":\"4 semestres\",\"Cr\\\\u00e9ditos\":\"46\",\"Ciudad\":\"tunja\"},{\"pregrado\":\"ingenieria civil\",\"Universidad\":\"universidad cooperativa de colombia - sede villavicencio\",\"detalles\":\"el\\\\u00a0ingeniero civil\\\\u00a0de la\\\\u00a0universidad cooperativa de colombia - villavicencio\\\\u00a0se desempe\\\\u00f1a en los siguientes campos:\",\"Descripcion\":\"el ingeniero civil de la universidad cooperativa de colombia - villavicencio esta capacitado para el desempe\\\\u00f1o de sus actividades profesionales dentro de los siguientes campos: estructural, geotecnia, hidraulica, vias y transporte, construccion, ambiental y sanitaria.\",\"SNIES\":\"9105\",\"Registro calificado\":\"resolucion 3890 del 20 de marzo de 2014, vigencia por 7 a\\\\u00f1os\",\"Nivel de formaci\\\\u00f3n\":\"pregrado\",\"Tipo de formaci\\\\u00f3n\":\"universitaria\",\"T\\\\u00edtulo otorgado\":\"ingeniero civil\",\"Modalidad\":\"presencial\",\"Duraci\\\\u00f3n\":\"10 semestres\",\"Cr\\\\u00e9ditos\":\"167\",\"Ciudad\":\"villavicencio\"},{\"pregrado\":\"ingenieria civil\",\"Universidad\":\"universidad santo tomas - villavicencio\",\"detalles\":\"el\\\\u00a0ingeniero civil\\\\u00a0tomasino podra:\",\"Descripcion\":\"el programa de ingenieria civil formara profesionales que desarrollaran excelentes competencias en analisis, planificacion, dise\\\\u00f1o, mantenimiento y operacion de proyectos de infraestructura en areas de la ingenieria civil: estructural, ambiental y sanitaria, geotecnica, hidraulica y recursos hidricos, materiales, transporte y gerencia de construccion. la formacion humanista del programa facilitara la integracion con los entornos natural y social, promoviendo principios de responsabilidad social y etica.\",\"SNIES\":\"102023\",\"Registro calificado\":\"resolucion 10662 del 08 de octubre de 2019, vigencia 7 a\\\\u00f1os\",\"Nivel de formaci\\\\u00f3n\":\"pregrado\",\"Tipo de formaci\\\\u00f3n\":\"profesional\",\"T\\\\u00edtulo otorgado\":\"ingeniero civil\",\"Modalidad\":null,\"Duraci\\\\u00f3n\":\"10 semestres\",\"Cr\\\\u00e9ditos\":\"164\",\"Ciudad\":\"villavicencio\"},{\"pregrado\":\"ingenieria civil\",\"Universidad\":\"corporacion universitaria del meta\",\"detalles\":\"\\\\u00bfpor que ser ingeniero civil unimetense?los egresados del programa ingenieria civil se destacan en diferentes cargos del sector publico y privado de villavicencio, el departamento y la nacion, aportando al desarrollo sostenible, sus conocimientos en la construccion y modernizacion de obras civiles de acuerdo a los mas altos estandares. los estudiantes de ingenieria civil de la unimeta, tienen la posibilidad de complementar su formacion con la opcion de un diplomado, lo cual les hace mas competitivos en el mercado laboral. siendo un programa de formacion presencial, al ofrecer dos franjas horarias, permite a los estudiantes desarrollar sus actividades laborales de manera compatible con su proceso de formacion academica.\",\"Descripcion\":\"el programa de ingenieria civil se caracteriza por formar profesionales integrales con capacidad de evaluar los problemas y proponer soluciones\\\\u00a0 en el campo de la organizacion, programacion, interventoria y ejecucion de obras de importancia local y regional, mediante el trabajo en equipo.\",\"SNIES\":\"8863\",\"Registro calificado\":\"resolucion n\\\\u00ba  2409 del 07 de marzo de 2012, vigencia de 7 a\\\\u00f1os.\",\"Nivel de formaci\\\\u00f3n\":\"pregrado\",\"Tipo de formaci\\\\u00f3n\":\"profesional universitaria\",\"T\\\\u00edtulo otorgado\":\"ingeniero civil\",\"Modalidad\":\"presencial\",\"Duraci\\\\u00f3n\":\"10 semestres\",\"Cr\\\\u00e9ditos\":\"159\",\"Ciudad\":\"villavicencio\"}]',\n",
       " 'licenciatura en pedagogia infantil': '[{\"pregrado\":\"licenciatura en pedagogia infantil\",\"Universidad\":\"universidad del norte\",\"detalles\":\"prepara licenciados en pedagogia infantil con una solida cultura general, comprometidos con el desarrollo del potencial humano, con los principios sobre los que se fundamenta su profesion, y con la transformacion social para trabajar con y por los ni\\\\u00f1os cuyas edades esten entre los 0 y 7 a\\\\u00f1os. esta formacion le permite al futuro licenciado en pedagogia infantil trabajar tanto en instituciones educativas, como en fundaciones y organizaciones nacionales e internacionales preocupadas por el bienestar infantil.\",\"Descripcion\":\"el    programa de licenciatura en pedagogia infantil tiene como  finalidad   formar profesionales  en educacion de la mas alta calidad  cientifica y   etica, capaces de desarrollar  la teoria y la practica  pedagogica como   parte fundamental del saber del  educador a traves del   fortalecimiento  de la investigacion, la gestion  administrativa y la   reflexion sobre su  quehacer docente cotidiano.\",\"SNIES\":\"1267\",\"Registro calificado\":\"resolucion 1017 del 41663, vigencia 10 a\\\\u00f1os\",\"Nivel de formaci\\\\u00f3n\":\"pregrado\",\"Tipo de formaci\\\\u00f3n\":\"universitaria\",\"T\\\\u00edtulo otorgado\":\"licenciado(a) en pedagogia infantil\",\"Modalidad\":\"presencial\",\"Duraci\\\\u00f3n\":\"8 semestres\",\"Cr\\\\u00e9ditos\":\"134\",\"Ciudad\":\"barranquilla\"},{\"pregrado\":\"licenciatura en pedagogia infantil\",\"Universidad\":\"corporacion universitaria minuto de dios -uniminuto- sede ibague\",\"detalles\":\"objetivo general\",\"Descripcion\":\"nombre del programa:\\\\u00a0licenciatura en pedagogia infantilnivel de formacion:\\\\u00a0profesional universitariometodologia:\\\\u00a0distancia tradicionalno de snies:\\\\u00a090962 duracion del programa en creditos: 144\",\"SNIES\":\"90962\",\"Registro calificado\":\"resolucion 12621 del 40539, vigencia 7 a\\\\u00f1os\",\"Nivel de formaci\\\\u00f3n\":\"pregrado\",\"Tipo de formaci\\\\u00f3n\":\"universitaria\",\"T\\\\u00edtulo otorgado\":\"licenciado en pedagogia infantil\",\"Modalidad\":\"distancia (tradicional)\",\"Duraci\\\\u00f3n\":\"10 semestres\",\"Cr\\\\u00e9ditos\":\"144\",\"Ciudad\":\"ibague\"},{\"pregrado\":\"licenciatura en pedagogia infantil\",\"Universidad\":\"corporacion universitaria minuto de dios -uniminuto- sede girardot\",\"detalles\":\"\",\"Descripcion\":\"desarrollar en los estudiantes las competencias pertinentes a la formacion integral del profesional licenciado en pedagogia infantil con relacion al desarrollo pedagogico y humano que le permitan crear ambientes de aprendizaje que promuevan el desarrollo de la comunidad infantil y aporten a la construccion una cultura de valoracion y respeto hacia la primera infancia.\",\"SNIES\":\"90962\",\"Registro calificado\":\"resolucion 12621 del 40539, vigencia 7 a\\\\u00f1os\",\"Nivel de formaci\\\\u00f3n\":\"pregrado\",\"Tipo de formaci\\\\u00f3n\":\"universitaria\",\"T\\\\u00edtulo otorgado\":\"licenciado en pedagogia infantil\",\"Modalidad\":\"distancia (tradicional)\",\"Duraci\\\\u00f3n\":\"10 semestres\",\"Cr\\\\u00e9ditos\":\"144\",\"Ciudad\":\"girardota\"},{\"pregrado\":\"licenciatura en pedagogia infantil\",\"Universidad\":\"corporacion universitaria minuto de dios -uniminuto- sede cundinamarca\",\"detalles\":\"perfil del aspirante:el aspirante a formarse como pedagoga (o) infantil, es un ser humano, que tiene intereses personales de formacion para desarrollar aptitudes y actitudes, tales como:\",\"Descripcion\":\"se oferta en soacha, zipaquira.\\\\r\\\\n\\\\r\\\\nla corporacion universitaria minuto de dios uniminuto, concibe la licenciatura en pedagogia infantil, como un escenario para el encuentro de saberes, el reconocimiento y aceptacion a la diversidad, la interaccion social, cultural y academica, desde el cual favorece la formacion integral de los profesionales que tendran a su cargo la educacion de ni\\\\u00f1os y ni\\\\u00f1as como sujetos con capacidades y competencias para la vida. es asi que la licenciatura en pedagogia infantil de uniminuto, infiere la infancia como representacion social que se construye de acuerdo al devenir historico y cultural. es un periodo trascendental en la vida del ser humano que se caracteriza por la rapida transformacion y desarrollo de sus habilidades, lo cual esta sujeto al crecimiento biologico y las interacciones que establece con el medio.\",\"SNIES\":\"54201\",\"Registro calificado\":\"resolucion 14349 del 42254, vigencia 7 a\\\\u00f1os\",\"Nivel de formaci\\\\u00f3n\":\"pregrado\",\"Tipo de formaci\\\\u00f3n\":\"universitaria\",\"T\\\\u00edtulo otorgado\":\"licenciado en pedagogia infantil\",\"Modalidad\":\"presencial\",\"Duraci\\\\u00f3n\":\"9 semestres\",\"Cr\\\\u00e9ditos\":\"144\",\"Ciudad\":\"cundinamarca\"},{\"pregrado\":\"licenciatura en pedagogia infantil\",\"Universidad\":\"corporacion universitaria minuto de dios -uniminuto- sede cundinamarca\",\"detalles\":\"perfil del aspirante:el aspirante a formarse como pedagoga (o) infantil, es un ser humano, que tiene intereses personales de formacion para desarrollar aptitudes y actitudes, tales como:\",\"Descripcion\":\"se oferta en soacha, zipaquira.\\\\r\\\\n\\\\r\\\\nla corporacion universitaria minuto de dios uniminuto, concibe la licenciatura en pedagogia infantil, como un escenario para el encuentro de saberes, el reconocimiento y aceptacion a la diversidad, la interaccion social, cultural y academica, desde el cual favorece la formacion integral de los profesionales que tendran a su cargo la educacion de ni\\\\u00f1os y ni\\\\u00f1as como sujetos con capacidades y competencias para la vida. es asi que la licenciatura en pedagogia infantil de uniminuto, infiere la infancia como representacion social que se construye de acuerdo al devenir historico y cultural. es un periodo trascendental en la vida del ser humano que se caracteriza por la rapida transformacion y desarrollo de sus habilidades, lo cual esta sujeto al crecimiento biologico y las interacciones que establece con el medio.\",\"SNIES\":\"54201\",\"Registro calificado\":\"resolucion 14349 del 42254, vigencia 7 a\\\\u00f1os\",\"Nivel de formaci\\\\u00f3n\":\"pregrado\",\"Tipo de formaci\\\\u00f3n\":\"universitaria\",\"T\\\\u00edtulo otorgado\":\"licenciado en pedagogia infantil\",\"Modalidad\":\"presencial\",\"Duraci\\\\u00f3n\":\"9 semestres\",\"Cr\\\\u00e9ditos\":\"144\",\"Ciudad\":\"cundinamarca\"},{\"pregrado\":\"licenciatura en pedagogia infantil\",\"Universidad\":\"corporacion universitaria minuto de dios -uniminuto- sede bucaramanga\",\"detalles\":\"\",\"Descripcion\":\"el licenciado en pedagogia infantil se apunta a un maestro que ademas de tener las caracteristicas formuladas por la ley, posea capacidad y autonomia para decidir; conciencia social; interes por conocer, innovar, investigar y profundizar asuntos propios de su profesion;\",\"SNIES\":\"90962\",\"Registro calificado\":\"resolucion 12621 del 40539, vigencia 7 a\\\\u00f1os\",\"Nivel de formaci\\\\u00f3n\":\"pregrado\",\"Tipo de formaci\\\\u00f3n\":\"universitaria\",\"T\\\\u00edtulo otorgado\":\"licenciado en pedagogia infantil\",\"Modalidad\":\"distancia (tradicional)\",\"Duraci\\\\u00f3n\":\"10 semestres\",\"Cr\\\\u00e9ditos\":\"144\",\"Ciudad\":\"bucaramanga\"},{\"pregrado\":\"licenciatura en pedagogia infantil\",\"Universidad\":\"corporacion universitaria minuto de dios -uniminuto- sede bogota sur\",\"detalles\":\"perfil del aspiranteel programa tiene como objetivo desarrollar en los estudiantes las competencias pertinentes a la formacion integral del licenciado en pedagogia infantil, para desempe\\\\u00f1arse como docente en educacion de preescolar y primeros a\\\\u00f1os de basica primaria, con capacidades de crear ambientes de aprendizaje.perfil del graduadodesarrolla competencias basicas de su quehacer pedagogico, que involucren los contextos y atiendan las necesidades propias de actualizacion y formacion permanente. identifica las necesidades y los saberes pedagogicos que responden al desarrollo evolutivo de la sociedad.documentos de ingreso\",\"Descripcion\":\"la licenciatura en pedagogia infantil propone un curriculo innovador evidenciado en su metodologia, flexibilidad, movilidad, pertinencia social y academica, que permita alcanzar los objetivos trazados para la educacion de calidad.\",\"SNIES\":\"90962\",\"Registro calificado\":\"resolucion 12621 del 40539, vigencia 7 a\\\\u00f1os\",\"Nivel de formaci\\\\u00f3n\":\"pregrado\",\"Tipo de formaci\\\\u00f3n\":\"universitaria\",\"T\\\\u00edtulo otorgado\":\"licenciado en pedagogia infantil\",\"Modalidad\":\"distancia (tradicional)\",\"Duraci\\\\u00f3n\":\"10 semestres\",\"Cr\\\\u00e9ditos\":\"144\",\"Ciudad\":\"bogota\"},{\"pregrado\":\"licenciatura en pedagogia infantil\",\"Universidad\":\"corporacion universitaria iberoamericana\",\"detalles\":\"perfil del aspirante\",\"Descripcion\":\"la licenciatura en educacion infantil en la ibero te forma para ser un profesional comprometido con la infancia, innovador, critico, etico, propositivo y reflexivo, capaz de crear ambientes y procesos educativos que promuevan el desarrollo integral de los ni\\\\u00f1os con un enfoque de inclusion y respeto a la diversidad.\",\"SNIES\":\"106352\",\"Registro calificado\":\"resolucion 24094 del 7 de noviembre de 2017, vigencia 7 a\\\\u00f1os\",\"Nivel de formaci\\\\u00f3n\":\"pregrado\",\"Tipo de formaci\\\\u00f3n\":\"profesional\",\"T\\\\u00edtulo otorgado\":\"licenciado en pedagogia infantil\",\"Modalidad\":\"presencial\",\"Duraci\\\\u00f3n\":\"9 semestres\",\"Cr\\\\u00e9ditos\":\"158\",\"Ciudad\":\"bogota\"},{\"pregrado\":\"licenciatura en pedagogia infantil\",\"Universidad\":\"corporacion universitaria minuto de dios -uniminuto- sede neiva\",\"detalles\":\"docente en nivel (de primera infancia) educacion preescolar y primeros a\\\\u00f1os de basica primaria.\",\"Descripcion\":\"desarrollo en los estudiantes las competencias pertinentes a la formacion integral del profesional licenciado\\\\u00a0 en pedagogia infantil con relacion al desarrollo pedagogico y humano que le permitan crear ambientes de aprendizaje que promuevan el\\\\u00a0 desarrollo de la comunidad infantil y aporten a la construccion de una cultura de valoracion y respeto hacia la primera infancia.\",\"SNIES\":\"90962\",\"Registro calificado\":\"resolucion 12621 del 40539, vigencia 7 a\\\\u00f1os\",\"Nivel de formaci\\\\u00f3n\":\"pregrado\",\"Tipo de formaci\\\\u00f3n\":\"universitaria\",\"T\\\\u00edtulo otorgado\":\"licenciado en pedagogia infantil\",\"Modalidad\":\"distancia (tradicional)\",\"Duraci\\\\u00f3n\":\"10 semestres\",\"Cr\\\\u00e9ditos\":\"144\",\"Ciudad\":\"neiva\"},{\"pregrado\":\"licenciatura en pedagogia infantil\",\"Universidad\":\"universidad tecnologica de pereira\",\"detalles\":\"los profesionales en licenciatura en pedagogia infantil, ademas de tener caracter humanista y conocimiento de tecnicas de ense\\\\u00f1anza y aprendizaje, deben tener destrezas en el manejo de los ni\\\\u00f1os y comprender las particularidades de la formacion hacia ese grupo objetivo.\",\"Descripcion\":\"el ejercicio de la docencia es fundamental para obtener desarrollo en  las sociedades. el papel del educador, debe ser integral, gestor de  nuevas y mejores visiones del entorno, proyectando en sus ense\\\\u00f1anzas, el  futuro de la comunidad.\",\"SNIES\":\"4099\",\"Registro calificado\":\"resolucion 20530 del 42355, vigencia 4 a\\\\u00f1os\",\"Nivel de formaci\\\\u00f3n\":\"pregrado\",\"Tipo de formaci\\\\u00f3n\":\"universitaria\",\"T\\\\u00edtulo otorgado\":\"licenciado en pedagogia infantil\",\"Modalidad\":\"presencial\",\"Duraci\\\\u00f3n\":\"10 semestres\",\"Cr\\\\u00e9ditos\":\"194\",\"Ciudad\":\"pereira\"},{\"pregrado\":\"licenciatura en pedagogia infantil\",\"Universidad\":\"corporacion universitaria minuto de dios -uniminuto sede tolima-huila\",\"detalles\":\"perfil del aspirante\",\"Descripcion\":\"la licenciatura en pedagogia infantil propone un curriculo innovador evidenciado en su metodologia, flexibilidad, movilidad, pertinencia social y academica, que permita alcanzar los objetivos trazados para la educacion de calidad.\",\"SNIES\":\"90962\",\"Registro calificado\":\"resolucion 12621 del 40539, vigencia 7 a\\\\u00f1os\",\"Nivel de formaci\\\\u00f3n\":\"pregrado\",\"Tipo de formaci\\\\u00f3n\":\"universitaria\",\"T\\\\u00edtulo otorgado\":\"licenciado en pedagogia infantil\",\"Modalidad\":\"distancia (tradicional)\",\"Duraci\\\\u00f3n\":\"10 semestres\",\"Cr\\\\u00e9ditos\":\"144\",\"Ciudad\":\"tolima\"},{\"pregrado\":\"licenciatura en pedagogia infantil\",\"Universidad\":\"corporacion universitaria minuto de dios uniminuto- sede valle\",\"detalles\":\"perfil del aspirante\",\"Descripcion\":\"la licenciatura en pedagogia infantil propone un curriculo innovador evidenciado en su metodologia, flexibilidad, movilidad, pertinencia social y academica, que permita alcanzar los objetivos trazados para la educacion de calidad.\",\"SNIES\":\"90962\",\"Registro calificado\":\"resolucion 12621 del 40539, vigencia 7 a\\\\u00f1os\",\"Nivel de formaci\\\\u00f3n\":\"pregrado\",\"Tipo de formaci\\\\u00f3n\":\"universitaria\",\"T\\\\u00edtulo otorgado\":\"licenciado en pedagogia infantil\",\"Modalidad\":\"distancia (tradicional)\",\"Duraci\\\\u00f3n\":\"10 semestres\",\"Cr\\\\u00e9ditos\":\"144\",\"Ciudad\":\"valle\"},{\"pregrado\":\"licenciatura en pedagogia infantil\",\"Universidad\":\"corporacion universitaria minuto de dios -uniminuto- sede villavicencio\",\"detalles\":\"perfil ocupacional\",\"Descripcion\":\"desarrollar en los estudiantes las competencias pertinentes a la formacion integral del profesional licenciado en pedagogia infantil con relacion al desarrollo pedagogico y humano que le permita crear ambientes de aprendizaje que promuevan el desarrollo de la comunidad infantil y aporten a la construccion de una cultura de valoracion y respeto hacia la primera infancia.\",\"SNIES\":\"90962\",\"Registro calificado\":\"resolucion 12621 del 40539, vigencia 7 a\\\\u00f1os\",\"Nivel de formaci\\\\u00f3n\":\"pregrado\",\"Tipo de formaci\\\\u00f3n\":\"universitaria\",\"T\\\\u00edtulo otorgado\":\"licenciado en pedagogia infantil\",\"Modalidad\":\"distancia (tradicional)\",\"Duraci\\\\u00f3n\":\"10 semestres\",\"Cr\\\\u00e9ditos\":\"144\",\"Ciudad\":\"villavicencio\"}]'}"
      ]
     },
     "metadata": {},
     "execution_count": 71
    }
   ],
   "source": [
    "get_pregrados_info(best_careers)"
   ]
  },
  {
   "cell_type": "code",
   "execution_count": 72,
   "metadata": {},
   "outputs": [],
   "source": [
    "def get_tables(dictionario):\n",
    "    sorted_dict = sort_porcentajes(dictionario)\n",
    "    best_careers = list(sorted_dict)[:3]\n",
    "    best_careers = [career.lower() for career in best_careers]\n",
    "    return get_pregrados_info(best_careers)"
   ]
  },
  {
   "cell_type": "code",
   "execution_count": null,
   "metadata": {},
   "outputs": [],
   "source": []
  },
  {
   "cell_type": "code",
   "execution_count": null,
   "metadata": {},
   "outputs": [],
   "source": []
  }
 ],
 "metadata": {
  "kernelspec": {
   "name": "python395jvsc74a57bd0774ed1dedce2923a8e59184d2f2897b48c3ced8b2f91d46b17cc30305ca595af",
   "display_name": "Python 3.9.5 64-bit"
  },
  "language_info": {
   "codemirror_mode": {
    "name": "ipython",
    "version": 3
   },
   "file_extension": ".py",
   "mimetype": "text/x-python",
   "name": "python",
   "nbconvert_exporter": "python",
   "pygments_lexer": "ipython3",
   "version": "3.9.5"
  },
  "metadata": {
   "interpreter": {
    "hash": "7c82862da64b53b7255d956966d960809733628ec9b3e85c442b80ccd79c05cc"
   }
  }
 },
 "nbformat": 4,
 "nbformat_minor": 4
}