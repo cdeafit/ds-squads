{
 "cells": [
  {
   "cell_type": "code",
   "execution_count": null,
   "metadata": {},
   "outputs": [],
   "source": [
    "import json\n",
    "import pandas as pd\n",
    "import regex as rx"
   ]
  },
  {
   "cell_type": "code",
   "execution_count": null,
   "metadata": {},
   "outputs": [],
   "source": [
    "f = open('file.txt', 'r')\n",
    "data = json.load(f)\n",
    "df = pd.DataFrame.from_dict(data)\n",
    "print(df['detalles'].head(50))"
   ]
  },
  {
   "cell_type": "code",
   "execution_count": null,
   "metadata": {},
   "outputs": [],
   "source": [
    "extr = df[df['Nivel de formación'] == \"pregrado\"]\n",
    "extr2 = extr['pregrado'].drop_duplicates()\n",
    "extr2"
   ]
  },
  {
   "cell_type": "code",
   "execution_count": null,
   "metadata": {},
   "outputs": [],
   "source": [
    "ingenieria = extr[extr['pregrado'].str.contains('ingenieria') &\n",
    "                  extr['pregrado'].str.contains('sistemas')]\n",
    "ingenieria2 = ingenieria['pregrado'].drop_duplicates()\n"
   ]
  },
  {
   "cell_type": "code",
   "execution_count": null,
   "metadata": {},
   "outputs": [],
   "source": [
    "def predict_career(language, math, humanity, science, english):\n",
    "    import random\n",
    "    \n",
    "    careers = ['NEGOCIOS INTERNACIONALES', 'INGENIERIA INDUSTRIAL', 'PSICOLOGIA', 'COMUNICACION SOCIAL- PERIODISMO', 'COMUNICACION SOCIAL', 'ADMINISTRACION DE EMPRESAS', 'DERECHO', 'INGENIERIA AMBIENTAL', 'CONTADURIA PUBLICA', 'INGENIERIA MECANICA', 'INGENIERIA CIVIL', 'TRABAJO SOCIAL', 'NUTRICION Y DIETETICA', 'ECONOMIA', 'ODONTOLOGIA', 'ARQUITECTURA', 'LICENCIATURA EN EDUCACION PREESCOLAR', 'SOCIOLOGIA', 'FONOAUDIOLOGIA', 'ADMINISTRACION DE NEGOCIOS', 'INGENIERIA QUIMICA', 'LICENCIATURA EN PEDAGOGÍA INFANTIL', 'CONTADURÍA PÚBLICA', 'MEDICINA VETERINARIA', 'INGENIERIA DE SISTEMAS', 'INGENIERIA ELECTRONICA', 'INGENIERIA DE PETROLEOS', 'INGENIERIA BIOMEDICA', 'INGENIERIA AMBIENTAL Y SANITARIA', 'ENFERMERIA', 'MEDICINA VETERINARIA Y ZOOTECNIA', 'COMERCIO INTERNACIONAL', 'BIOLOGIA', 'INGENIERIA ELECTRICA', 'ADMINISTRACION DE NEGOCIOS INTERNACIONALES', 'INGENIERIA MECATRONICA', 'CIENCIA POLITICA', 'ADMINISTRACIÓN DE EMPRESAS', 'COMUNICACION SOCIAL Y PERIODISMO', 'MEDICINA', 'RELACIONES INTERNACIONALES', 'LICENCIATURA EN PEDAGOGIA INFANTIL', 'ADMINISTRACIÓN EN SALUD OCUPACIONAL', 'CIENCIAS MILITARES', 'MERCADEO', 'INSTRUMENTACION QUIRURGICA', 'DISEÑO INDUSTRIAL', 'LICENCIATURA EN CIENCIAS SOCIALES', 'FISIOTERAPIA', 'DISEÑO GRAFICO', 'PSICOLOGÍA', 'PUBLICIDAD', 'SALUD OCUPACIONAL', 'INGENIERIA AGRONOMICA']\n",
    "\n",
    "    careers_prob = dict()\n",
    "    \n",
    "    for c in careers:\n",
    "        careers_prob[c] = random.random()\n",
    "        \n",
    "        \n",
    "    return careers_prob\n"
   ]
  },
  {
   "cell_type": "code",
   "execution_count": null,
   "metadata": {},
   "outputs": [],
   "source": [
    "def get_pregrados_info(nombres):\n",
    "    f = open('file.txt', 'r')\n",
    "    data = json.load(f)\n",
    "    tp = pd.DataFrame.from_dict(data) #tabla pregrados\n",
    "    tablas = []\n",
    "    for nombre in nombres:\n",
    "        reg = \"\"\n",
    "        reg += '('\n",
    "        for palabra in nombre.split(' '):\n",
    "            reg += '.*' + palabra\n",
    "        reg += '.*)'\n",
    "        tablas.append(tp[tp['pregrado'].str.match(reg)])\n",
    "    return tablas \n"
   ]
  },
  {
   "cell_type": "code",
   "execution_count": null,
   "metadata": {},
   "outputs": [],
   "source": [
    "def sort_porcentajes(diccionario_pregrados):\n",
    "    return {k: v for k, v in sorted(diccionario_pregrados.items(), key=lambda item: item[1], reverse = True)}"
   ]
  },
  {
   "cell_type": "code",
   "execution_count": null,
   "metadata": {},
   "outputs": [],
   "source": [
    "sorted_dict = sort_porcentajes(dictionario)\n",
    "best_careers = list(sorted_dict)[:3]\n",
    "best_careers = [career.lower() for career in best_careers]\n",
    "best_careers"
   ]
  },
  {
   "cell_type": "code",
   "execution_count": null,
   "metadata": {},
   "outputs": [],
   "source": [
    "get_pregrados_info(best_careers)"
   ]
  },
  {
   "cell_type": "code",
   "execution_count": null,
   "metadata": {},
   "outputs": [],
   "source": [
    "def get_tables(dictionario):\n",
    "    sorted_dict = sort_porcentajes(dictionario)\n",
    "    best_careers = list(sorted_dict)[:3]\n",
    "    best_careers = [career.lower() for career in best_careers]\n",
    "    return get_pregrados_info(best_careers)"
   ]
  },
  {
   "cell_type": "code",
   "execution_count": null,
   "metadata": {},
   "outputs": [],
   "source": []
  }
 ],
 "metadata": {
  "kernelspec": {
   "name": "python395jvsc74a57bd07c82862da64b53b7255d956966d960809733628ec9b3e85c442b80ccd79c05cc",
   "display_name": "Python 3.9.5 64-bit (windows store)"
  },
  "language_info": {
   "codemirror_mode": {
    "name": "ipython",
    "version": 3
   },
   "file_extension": ".py",
   "mimetype": "text/x-python",
   "name": "python",
   "nbconvert_exporter": "python",
   "pygments_lexer": "ipython3",
   "version": "3.9.5"
  },
  "metadata": {
   "interpreter": {
    "hash": "7c82862da64b53b7255d956966d960809733628ec9b3e85c442b80ccd79c05cc"
   }
  }
 },
 "nbformat": 4,
 "nbformat_minor": 4
}