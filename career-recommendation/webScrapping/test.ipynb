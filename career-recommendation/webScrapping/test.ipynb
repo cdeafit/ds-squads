{
 "cells": [
  {
   "cell_type": "code",
   "execution_count": 15,
   "metadata": {},
   "outputs": [],
   "source": [
    "import json\n",
    "import pandas as pd\n",
    "import regex as rx"
   ]
  },
  {
   "cell_type": "code",
   "execution_count": 16,
   "metadata": {},
   "outputs": [],
   "source": [
    "f = open('file.txt', 'r')\n",
    "data = json.load(f)\n",
    "df = pd.DataFrame.from_dict(data)"
   ]
  },
  {
   "cell_type": "code",
   "execution_count": 17,
   "metadata": {},
   "outputs": [
    {
     "output_type": "execute_result",
     "data": {
      "text/plain": [
       "1                                contaduria publica\n",
       "2                                           derecho\n",
       "3                                        psicologia\n",
       "5                        administracion de empresas\n",
       "6                  medicina veterinaria y zootecnia\n",
       "                           ...                     \n",
       "2920     licenciatura en lenguas extranjeras ingles\n",
       "2923            licenciatura en educacion religiosa\n",
       "2926     tecnologia en gestion financiera - virtual\n",
       "2928    tecnologia en gestion de mercadeo - virtual\n",
       "2936                           regencia de farmacia\n",
       "Name: pregrado, Length: 415, dtype: object"
      ]
     },
     "metadata": {},
     "execution_count": 17
    }
   ],
   "source": [
    "extr = df[df['Nivel de formación'] == \"pregrado\"]\n",
    "extr2 = extr['pregrado'].drop_duplicates()\n",
    "extr2"
   ]
  },
  {
   "cell_type": "code",
   "execution_count": 18,
   "metadata": {},
   "outputs": [],
   "source": [
    "ingenieria = extr[extr['pregrado'].str.contains('ingenieria') &\n",
    "extr['pregrado'].str.contains('sistemas')]\n",
    "ingenieria2 = ingenieria['pregrado'].drop_duplicates()\n"
   ]
  },
  {
   "cell_type": "code",
   "execution_count": 19,
   "metadata": {},
   "outputs": [],
   "source": [
    "def predict_career(language, math, humanity, science, english):\n",
    "    import random\n",
    "    \n",
    "    careers = ['NEGOCIOS INTERNACIONALES', 'INGENIERIA INDUSTRIAL', 'PSICOLOGIA', 'COMUNICACION SOCIAL- PERIODISMO', 'COMUNICACION SOCIAL', 'ADMINISTRACION DE EMPRESAS', 'DERECHO', 'INGENIERIA AMBIENTAL', 'CONTADURIA PUBLICA', 'INGENIERIA MECANICA', 'INGENIERIA CIVIL', 'TRABAJO SOCIAL', 'NUTRICION Y DIETETICA', 'ECONOMIA', 'ODONTOLOGIA', 'ARQUITECTURA', 'LICENCIATURA EN EDUCACION PREESCOLAR', 'SOCIOLOGIA', 'FONOAUDIOLOGIA', 'ADMINISTRACION DE NEGOCIOS', 'INGENIERIA QUIMICA', 'LICENCIATURA EN PEDAGOGÍA INFANTIL', 'CONTADURÍA PÚBLICA', 'MEDICINA VETERINARIA', 'INGENIERIA DE SISTEMAS', 'INGENIERIA ELECTRONICA', 'INGENIERIA DE PETROLEOS', 'INGENIERIA BIOMEDICA', 'INGENIERIA AMBIENTAL Y SANITARIA', 'ENFERMERIA', 'MEDICINA VETERINARIA Y ZOOTECNIA', 'COMERCIO INTERNACIONAL', 'BIOLOGIA', 'INGENIERIA ELECTRICA', 'ADMINISTRACION DE NEGOCIOS INTERNACIONALES', 'INGENIERIA MECATRONICA', 'CIENCIA POLITICA', 'ADMINISTRACIÓN DE EMPRESAS', 'COMUNICACION SOCIAL Y PERIODISMO', 'MEDICINA', 'RELACIONES INTERNACIONALES', 'LICENCIATURA EN PEDAGOGIA INFANTIL', 'ADMINISTRACIÓN EN SALUD OCUPACIONAL', 'CIENCIAS MILITARES', 'MERCADEO', 'INSTRUMENTACION QUIRURGICA', 'DISEÑO INDUSTRIAL', 'LICENCIATURA EN CIENCIAS SOCIALES', 'FISIOTERAPIA', 'DISEÑO GRAFICO', 'PSICOLOGÍA', 'PUBLICIDAD', 'SALUD OCUPACIONAL', 'INGENIERIA AGRONOMICA']\n",
    "\n",
    "    careers_prob = dict()\n",
    "    \n",
    "    for c in careers:\n",
    "        careers_prob[c] = random.random()\n",
    "        \n",
    "        \n",
    "    return careers_prob\n"
   ]
  },
  {
   "cell_type": "code",
   "execution_count": 21,
   "metadata": {},
   "outputs": [],
   "source": [
    "def get_pregrados_info(nombres):\n",
    "    f = open('file.txt', 'r')\n",
    "    data = json.load(f)\n",
    "    tp = pd.DataFrame.from_dict(data) #tabla pregrados\n",
    "    tp = tp[tp['Nivel de formación'] == \"pregrado\"]\n",
    "    tablas = {}\n",
    "    for nombre in nombres:\n",
    "        reg = \"\"\n",
    "        reg += '('\n",
    "        for palabra in nombre.split(' '):\n",
    "            if len(palabra) > 3:\n",
    "                reg += '.*' + palabra.lower().replace('á', 'a').replace('é', 'e').replace('í', 'i').replace('ó', 'o').replace('ú', 'u')\n",
    "        reg += '.*)'\n",
    "        tablas[nombre] = tp[tp['pregrado'].str.match(reg)].to_json(orient=\"records\")\n",
    "    return tablas \n"
   ]
  },
  {
   "cell_type": "code",
   "execution_count": 22,
   "metadata": {},
   "outputs": [],
   "source": [
    "def sort_porcentajes(diccionario_pregrados):\n",
    "    return {k: v for k, v in sorted(diccionario_pregrados.items(), key=lambda item: item[1], reverse = True)}"
   ]
  },
  {
   "cell_type": "code",
   "execution_count": 23,
   "metadata": {},
   "outputs": [
    {
     "output_type": "execute_result",
     "data": {
      "text/plain": [
       "['medicina veterinaria', 'medicina', 'ciencia politica']"
      ]
     },
     "metadata": {},
     "execution_count": 23
    }
   ],
   "source": [
    "dictionario = predict_career(1,1,1,1,1)\n",
    "sorted_dict = sort_porcentajes(dictionario)\n",
    "best_careers = list(sorted_dict)[:3]\n",
    "best_careers = [career.lower() for career in best_careers]\n",
    "best_careers"
   ]
  },
  {
   "cell_type": "code",
   "execution_count": 24,
   "metadata": {},
   "outputs": [
    {
     "output_type": "execute_result",
     "data": {
      "text/plain": [
       "udad\":\"medellin\"},{\"pregrado\":\"medicina\",\"Universidad\":\"universidad cooperativa de colombia - medellin\",\"detalles\":\"\",\"Descripcion\":\"la atencion del ser humano con un enfoque integral, abordandolo desde el punto de vista biologico, psicologico y social a nivel individual, familiar y comunitario, aplicando acciones de promocion de la salud, prevencion de la enfermedad, diagnostico, tratamiento y rehabilitacion.\",\"SNIES\":\"52723\",\"Registro calificado\":\"resolucion 02019 del 02 de febrero 2016, vigencia 7 a\\\\u00f1os\",\"Nivel de formaci\\\\u00f3n\":\"pregrado\",\"Tipo de formaci\\\\u00f3n\":\"universitaria\",\"T\\\\u00edtulo otorgado\":\"medico\",\"Modalidad\":\"presencial\",\"Duraci\\\\u00f3n\":\"12 semestres\",\"Cr\\\\u00e9ditos\":\"260\",\"Ciudad\":\"medellin\"},{\"pregrado\":\"medicina\",\"Universidad\":\"universidad pontificia bolivariana\",\"detalles\":\"desde su inicio, en 1976, el programa de medicina de la upb se ha caracterizado por la formacion integral basada en los principios del humanismo cristiano; esta formacion se refleja en el ejercicio profesional, de sus egresados: responsable, contextualizado, humanizado, con alto nivel cientifico y etico.sus docentes se caracterizan por su profesionalismo y su alto nivel academico y cientifico que se ve proyectado en una excelente formacion de sus estudiantes.cuenta con una biblioteca y con amplias bases de datos electronicas en el area de la salud, con laboratorios en biologia, bioquimica, histologia, anatomia, microbiologia, parasitologia, patologia y simulacion para procesos de docencia, investigacion y proyeccion al medio. de la misma manera, con convenios docencia-servicio, con los principales hospitales y clinicas de la ciudad y el area metropolitana, para la realizacion de practicas clinicas formativas en diferentes niveles de atencion en salud; a la vez, con convenios nacionales e internacionales para pasantias y practicas.cuenta con 14 grupos de investigacion y con el semillero de investigacion facultad de medicina, sifam, que permite a los estudiantes alcanzar competencias en indagacion y busqueda para gestionar y desarrollar proyectos con impacto nacional e internacional.\\\\u00bfdonde puede desempe\\\\u00f1arse?el medico de la upb es una persona con liderazgo, sentido de pertenencia, participacion ciudadana y democratica que ejerce su profesion en empresas relacionadas con el sector salud y en instituciones educativas en roles relacionados con:\",\"Descripcion\":\"el medico bolivariano es un  profesional capacitado para el trabajo interdisciplinario en la  promocion, conservacion y recuperacion de la salud del individuo y de la  comunidad, de acuerdo con el perfil epidemiologico y el contexto social  en el cual se desempe\\\\u00f1e.\\\\u00a0 enmarcado en el humanismo cristiano, con  fundamentacion en investigacion y actualizacion permanente; lider con  sentido de pertenencia, participacion ciudadana y democratica.\",\"SNIES\":\"55179\",\"Registro calificado\":\"resolucion 2489 del 40632, vigencia 8 a\\\\u00f1os\",\"Nivel de formaci\\\\u00f3n\":\"pregrado\",\"Tipo de formaci\\\\u00f3n\":\"universitaria\",\"T\\\\u00edtulo otorgado\":\"medico\",\"Modalidad\":\"presencial\",\"Duraci\\\\u00f3n\":\"13 semestres\",\"Cr\\\\u00e9ditos\":\"247\",\"Ciudad\":\"medellin\"},{\"pregrado\":\"medicina veterinaria y zootecnia\",\"Universidad\":\"universidad ces\",\"detalles\":\"un medico veterinario y zootecnista puede desempe\\\\u00f1arse como... \\\\u2022 medico veterinario zootecnista en el sector oficial, en la empresa privada o en forma independiente. \\\\u2022 gerente o administrador en organizaciones del sector pecuario en las areas de produccion y salud animal. \\\\u2022 empresario del sector agropecuario. \\\\u2022 investigador en los diferentes campos de los procesos agropecuarios y su entorno. \\\\u2022 asesor en salud, produccion, planificacion y control de indices de calidad en el sector agropecuario. \\\\u2022 clinico y cirujano en diferentes especies animales.\",\"Descripcion\":\"tu amor por los animales te ha traido hasta aqui y queremos que cumplas ese sue\\\\u00f1o con nosotros. en medicina veterinaria y zootecnia ayudaras a solucionar los problemas del sector agropecuario y de salud animal, y tambien adquirir el compromiso etico y de responsabilidad social con el desarrollo rural sostenible. acreditacion de alta calidad: resolucion 16187 de septiembre 30 de 2015, vigencia de 6 a\\\\u00f1os\",\"SNIES\":\"10923\",\"Registro calificado\":\"resolucion  6344 de abril de 2017 vigencia: 7 a\\\\u00f1os\",\"Nivel de formaci\\\\u00f3n\":\"pregrado\",\"Tipo de formaci\\\\u00f3n\":\"universitaria\",\"T\\\\u00edtulo otorgado\":\"medico veterinario zootecnista\",\"Modalidad\":\"presencial\",\"Duraci\\\\u00f3n\":\"10 semestres\",\"Cr\\\\u00e9ditos\":\"186\",\"Ciudad\":\"medellin\"},{\"pregrado\":\"medicina\",\"Universidad\":\"universidad del sinu\",\"detalles\":\"el aspirante a estudiar medicina debe ser una persona con principios eticos y morales. honesto, consagrado al estudio, con pleno conocimiento del caracter cambiante de los paradigmas medicos, sin prejuicios ni dogmas intelectuales, solidario con sus semejantes y amante de la cultura universal.\",\"Descripcion\":\"el programa de medicina de la universidad del sinu -elias bechara zainum-  esta orientado hacia la formacion de un profesional con conocimientos epidemiologicos, clinicos, investigativos y de salud publica, consciente de los valores de la etica medica.\",\"SNIES\":\"21275\",\"Registro calificado\":null,\"Nivel de formaci\\\\u00f3n\":\"pregrado\",\"Tipo de formaci\\\\u00f3n\":\"universitaria\",\"T\\\\u00edtulo otorgado\":\"medico\",\"Modalidad\":\"presencial\",\"Duraci\\\\u00f3n\":\"12 semestres\",\"Cr\\\\u00e9ditos\":null,\"Ciudad\":\"monteria\"},{\"pregrado\":\"medicina\",\"Universidad\":\"universidad cooperativa de colombia - sede pasto\",\"detalles\":\"campos de accion:las oportunidades existentes de desempe\\\\u00f1o laboral para talento o recurso humano formado en medicina en el caso especifico de los egresados de\\\\u00a0medicina\\\\u00a0de la\\\\u00a0universidad cooperativa de colombia - pasto\\\\u00a0residen en varias alternativas:\",\"Descripcion\":\"el medico de la universidad cooperativa de colombia - pasto sera un profesional integral, capaz de diagnosticar y resolver las causas y problemas de las enfermedades mas frecuentes en el medio en  que deba laborar; orientando de manera amplia al enfermo en su entorno individual, familiar y comunitario.\",\"SNIES\":\"90312\",\"Registro calificado\":\"resolucion 04219 del 10 de marzo de 2017, vigencia 7 a\\\\u00f1os\",\"Nivel de formaci\\\\u00f3n\":\"pregrado\",\"Tipo de formaci\\\\u00f3n\":\"universitaria\",\"T\\\\u00edtulo otorgado\":\"medico\",\"Modalidad\":\"presencial\",\"Duraci\\\\u00f3n\":\"12 semestres\",\"Cr\\\\u00e9ditos\":\"260\",\"Ciudad\":\"pasto\"},{\"pregrado\":\"medicina\",\"Universidad\":\"universidad tecnologica de pereira\",\"detalles\":\"perfil profesional.el futuro egresado de la facultad debera ser:\",\"Descripcion\":\"el futuro profesional del programa, tendra los conocimientos,  habilidades, destrezas y actitudes en los cinco componentes basicos de  la formacion, de tal manera que en su ejercicio profesional sea  competente para identificar e intervenir problemas de salud del  individuo, la familia y\\\\u00a0 la comunidad.\",\"SNIES\":\"267\",\"Registro calificado\":\"resolucion 1962 del 41333, vigencia 8 a\\\\u00f1os\",\"Nivel de formaci\\\\u00f3n\":\"pregrado\",\"Tipo de formaci\\\\u00f3n\":\"universitaria\",\"T\\\\u00edtulo otorgado\":\"medico\",\"Modalidad\":\"presencial\",\"Duraci\\\\u00f3n\":\"13 semestres\",\"Cr\\\\u00e9ditos\":\"282\",\"Ciudad\":\"pereira\"},{\"pregrado\":\"medicina veterinaria y zootecnia\",\"Universidad\":\"universidad cooperativa de colombia - sede bucaramanga\",\"detalles\":\"\",\"Descripcion\":\"programa con acreditacion de alta calidad por el ministerio de educacion nacional \\\\/ resolucion acreditacion: resolucion 23775 de 23 de diciembre de 2016, vigencia 6 a\\\\u00f1os.\",\"SNIES\":\"4336\",\"Registro calificado\":\"resolucion 08048 de 17 de mayo de 2018\",\"Nivel de formaci\\\\u00f3n\":\"pregrado\",\"Tipo de formaci\\\\u00f3n\":\"profesional universitario\",\"T\\\\u00edtulo otorgado\":\"medico veterinario y zootecnista\",\"Modalidad\":\"presencial\",\"Duraci\\\\u00f3n\":\"10 semestres\",\"Cr\\\\u00e9ditos\":\"196\",\"Ciudad\":\"quibdo\"},{\"pregrado\":\"medicina\",\"Universidad\":\"universidad cooperativa de colombia - sede santa marta\",\"detalles\":\"campos de accion:las oportunidades existentes de desempe\\\\u00f1o laboral para talento o recurso humano formado en medicina en el caso especifico de los egresados de\\\\u00a0medicina\\\\u00a0de la\\\\u00a0universidad cooperativa de colombia - santa marta\\\\u00a0residen en varias alternativas:\",\"Descripcion\":\"el medico de la universidad cooperativa de colombia - santa marta sera un profesional integral, capaz de diagnosticar y resolver las causas y problemas de las enfermedades mas frecuentes en el medio en  que deba laborar; orientando de manera amplia al enfermo en su entorno individual, familiar y comunitario.\",\"SNIES\":\"3529\",\"Registro calificado\":\"resolucion 04535, marzo 21 de 2018\",\"Nivel de formaci\\\\u00f3n\":\"pregrado\",\"Tipo de formaci\\\\u00f3n\":\"universitaria\",\"T\\\\u00edtulo otorgado\":\"medico\",\"Modalidad\":\"presencial\",\"Duraci\\\\u00f3n\":\"12 semestres (2 semestres de internado)\",\"Cr\\\\u00e9ditos\":\"260\",\"Ciudad\":\"santa marta\"},{\"pregrado\":\"medicina veterinaria y zootecnia\",\"Universidad\":\"universidad cooperativa de colombia - sede villavicencio\",\"detalles\":\"el cuidado del animal que se cria con fines productivos, el que se mantiene en vida salvaje, o el animal de compa\\\\u00f1ia, quienes deben recibir atencion para el mantenimiento de su salud integral en beneficio de su eficiencia productiva y de la salud del hombre a traves del control, erradicacion de las zoonosis de importancia y del control de la calidad de los alimentos que produce.\",\"Descripcion\":\"el programa de medicina veterinaria y zootecnia de la universidad cooperativa de colombia - villavicencio estudia la relacion entre el hombre y los animales de interes productivo para la satisfaccion de las necesidades humanas, el estudio comparativo de las especies animales de interes productivo para el hombre y las estrategias para producir segura y eficazmente productos de origen animal.\",\"SNIES\":\"91275\",\"Registro calificado\":\"resolucion 07340 del 04 de mayo de 2018, vigencia de 7 a\\\\u00f1os\",\"Nivel de formaci\\\\u00f3n\":\"pregrado\",\"Tipo de formaci\\\\u00f3n\":\"universitaria\",\"T\\\\u00edtulo otorgado\":\"medico veterinario zootecnista\",\"Modalidad\":\"presencial\",\"Duraci\\\\u00f3n\":\"10 semestres\",\"Cr\\\\u00e9ditos\":\"196\",\"Ciudad\":\"villavicencio\"},{\"pregrado\":\"medicina\",\"Universidad\":\"universidad cooperativa de colombia - sede villavicencio\",\"detalles\":\"campos de accion:las oportunidades existentes de desempe\\\\u00f1o laboral para talento o recurso humano formado en medicina en el caso especifico de los egresados de\\\\u00a0medicina\\\\u00a0de la\\\\u00a0universidad cooperativa de colombia - villavicencio\\\\u00a0residen en varias alternativas:\",\"Descripcion\":\"el medico de la universidad cooperativa de colombia - villavicencio sera un profesional integral, capaz de diagnosticar y resolver las causas y problemas de las enfermedades mas frecuentes en el medio en  que deba laborar; orientando de manera amplia al enfermo en su entorno individual, familiar y comunitario.\",\"SNIES\":\"90519\",\"Registro calificado\":\"resolucion 12707 de 28 de junio de 2017, vigencia 7 a\\\\u00f1os\",\"Nivel de formaci\\\\u00f3n\":\"pregrado\",\"Tipo de formaci\\\\u00f3n\":\"universitaria\",\"T\\\\u00edtulo otorgado\":\"medico\",\"Modalidad\":\"presencial\",\"Duraci\\\\u00f3n\":\"12 semestres\",\"Cr\\\\u00e9ditos\":\"260\",\"Ciudad\":\"villavicencio\"}]',\n",
       " 'ciencia politica': '[{\"pregrado\":\"ciencias politicas y relaciones internacionales\",\"Universidad\":\"universidad tecnologica de bolivar\",\"detalles\":\"perfil del egresado\",\"Descripcion\":\"el programa de ciencia politica y relaciones internacionales de la universidad tecnologica de bolivar forma profesionales en ciencia politica y relaciones internacionales con el mas alto nivel de competencia academica para el analisis y el dise\\\\u00f1o de estructuras y procesos politicos.\",\"SNIES\":\"51738\",\"Registro calificado\":\"resolucion no. 6019 de junio 1 de 2012. vigencia 7 a\\\\u00f1os.\",\"Nivel de formaci\\\\u00f3n\":\"pregrado\",\"Tipo de formaci\\\\u00f3n\":\"profesional\",\"T\\\\u00edtulo otorgado\":\"politologo\",\"Modalidad\":null,\"Duraci\\\\u00f3n\":\"9 semestres\",\"Cr\\\\u00e9ditos\":null,\"Ciudad\":\"cartagena\"},{\"pregrado\":\"ciencia politica\",\"Universidad\":\"universidad santiago de cali\",\"detalles\":\"el profesional de ciencia politica santiaguino es un profesional con:\",\"Descripcion\":\"formar politologos(as) con vocacion humanista, pensamiento analitico, sistemico, critico, estrategico y creativo, capaces de interpretar las demandas que sobre su objeto de estudio planteen los distintos sectores de la sociedad, y comprometidos con la construccion y consolidacion de procesos democraticos participativos en el escenario local, nacional e internacional.\",\"SNIES\":null,\"Registro calificado\":\"resolucion 10261 del 27 de septiembre de 2019, vigencia 7 a\\\\u00f1os\",\"Nivel de formaci\\\\u00f3n\":\"pregrado\",\"Tipo de formaci\\\\u00f3n\":\"profesional\",\"T\\\\u00edtulo otorgado\":\"politologo (a)\",\"Modalidad\":\"presencial\",\"Duraci\\\\u00f3n\":\"9 semestres\",\"Cr\\\\u00e9ditos\":\"135\",\"Ciudad\":\"cali\"},{\"pregrado\":\"ciencia politica con enfasis en relaciones internacionales\",\"Universidad\":\"universidad icesi\",\"detalles\":\"\",\"Descripcion\":\"\\\\u00bfque es la ciencia politica?\\\\nla ciencia politica estudia las relaciones de poder que definen los procesos de toma de decision. en ese sentido, se analizan la manera en que se establecen las relaciones entre las personas y estado, en las que se presentan las preferencias de los diferentes grupos sociales y partidos politicos para constituir un orden social.\",\"SNIES\":\"52059\",\"Registro calificado\":\"resolucion 1054 del 38789, vigencia 7 a\\\\u00f1os\",\"Nivel de formaci\\\\u00f3n\":\"pregrado\",\"Tipo de formaci\\\\u00f3n\":\"universitaria\",\"T\\\\u00edtulo otorgado\":\"politologo\",\"Modalidad\":\"presencial\",\"Duraci\\\\u00f3n\":\"10 semestres\",\"Cr\\\\u00e9ditos\":\"171\",\"Ciudad\":\"cali\"},{\"pregrado\":\"ciencia politica y gobierno\",\"Universidad\":\"universidad jorge tadeo lozano\",\"detalles\":\"las fortalezas del proyecto educativo de la ujtl, esta en la formacion transdisciplinar de sus egresados. de la mano de un programa consolidado como el de derecho, y otros de alta calidad como el de relaciones internacionales y comunicacion social y periodismo,\\\\u00a0 los egresados se acercan no solamente a los procesos politicos nacionales, sino tambien a los internacionales, y gracias al proceso de doble carrera pueden complementar su formacion y orientacion, siendo profesionales con mejores competencias y mas competitivos en el mercado laboral.\",\"Descripcion\":\"la utadeo ofrece el programa en ciencia politica y gobierno, desde un enfoque integral de la disciplina. solamente cuatro universidades a nivel nacional tienen orientacion en gobierno y una cuarta en gobierno y rrii. en bogota solamente tres instituciones la han integrado al proceso de formacion politologico y la ujtl, es una de ellas.\",\"SNIES\":\"90981\",\"Registro calificado\":\"resolucion 1160 del 31 de enero de 2017, vigencia 7 a\\\\u00f1os\",\"Nivel de formaci\\\\u00f3n\":\"pregrado\",\"Tipo de formaci\\\\u00f3n\":\"universitaria\",\"T\\\\u00edtulo otorgado\":\"politologo\",\"Modalidad\":\"presencial\",\"Duraci\\\\u00f3n\":\"8 semestres\",\"Cr\\\\u00e9ditos\":\"133\",\"Ciudad\":\"bogota\"},{\"pregrado\":\"ciencias politicas\",\"Universidad\":\"universidad de la sabana\",\"detalles\":\"perfil profesional\",\"Descripcion\":\"la carrera de ciencias politicas de la universidad de la sabana quiere ser un vehiculo de formacion y reflexion academica sobre la politica local, regional, nacional e internacional, que esta en capacidad de formar profesionales en la materia (policy makers).\",\"SNIES\":\"101640\",\"Registro calificado\":\"resolucion 14028 del 15 de agosto de 2018, vigencia 7 a\\\\u00f1os\",\"Nivel de formaci\\\\u00f3n\":\"pregrado\",\"Tipo de formaci\\\\u00f3n\":\"universitaria\",\"T\\\\u00edtulo otorgado\":\"politologo\",\"Modalidad\":\"presencial\",\"Duraci\\\\u00f3n\":\"9 semestres\",\"Cr\\\\u00e9ditos\":\"150\",\"Ciudad\":\"bogota\"},{\"pregrado\":\"ciencia politica\",\"Universidad\":\"unicervantes\",\"detalles\":\"el programa de ciencia politica de unicervantes ofrece a sus estudiantes formacion integral en las areas: juridica, economica, administrativa, social, filosofica e internacional; indispensables para el ejercicio de la politica y la investigacion en el campo, combinadas con una fuerte fundamentacion etica y humanistica.\",\"Descripcion\":\"el programa de ciencia politica de unicervantes ofrece a sus estudiantes una formacion integral en las areas filosofica, juridica, economica, administrativa, social e internacional, indispensables para el ejercicio de la politica y la investigacion en el campo, combinadas con una fuerte fundamentacion etica y humanistica que caracteriza a los profesionales cervantinos.\",\"SNIES\":\"90883\",\"Registro calificado\":\"resolucion 29522 del 29 de diciembre de 2017, vigencia 7 a\\\\u00f1os\",\"Nivel de formaci\\\\u00f3n\":\"pregrado\",\"Tipo de formaci\\\\u00f3n\":\"universitaria\",\"T\\\\u00edtulo otorgado\":\"politologo (a)\",\"Modalidad\":\"presencial\",\"Duraci\\\\u00f3n\":\"8 semestres\",\"Cr\\\\u00e9ditos\":\"128\",\"Ciudad\":\"bogota\"},{\"pregrado\":\"ciencia politica\",\"Universidad\":\"universidad de los andes\",\"detalles\":\"perfil del egresadoel egresado del pregrado en ciencia politica de la universidad de los andes es un cientifico social con amplia capacidad de analisis y pensamiento critico, producto del amplio espectro de temas que domina; del adecuado conocimiento y uso de teorias, metodologias y tecnicas propias de las ciencias sociales; y del desarrollo de variados intereses e inquietudes academicas que le permiten plantear y desarrollar distintas investigaciones.los politologos uniandinos pueden desempe\\\\u00f1arse laboralmente en diferentes cargos de las entidades publicas de las ramas del poder, en el sector privado, en organismos multilaterales, en docencia e investigacion, en centros de estudios politicos, en organizaciones no gubernamentales, en periodismo politico, consultoria, comunicacion estrategica y asesoria, y en representacion de intereses particulares.\",\"Descripcion\":\"en el programa de ciencia politica de la universidad de los andes tendras la posibilidad de adquirir las herramientas necesarias para que puedas hacer el analisis critico y argumentado de la coyuntura politica en los niveles local, regional, nacional e internacional.\",\"SNIES\":\"1534\",\"Registro calificado\":\"resolucion 2028 del 40261, vigencia 8 a\\\\u00f1os\",\"Nivel de formaci\\\\u00f3n\":\"pregrado\",\"Tipo de formaci\\\\u00f3n\":\"universitaria\",\"T\\\\u00edtulo otorgado\":\"politologo\",\"Modalidad\":\"presencial\",\"Duraci\\\\u00f3n\":\"8 semestres\",\"Cr\\\\u00e9ditos\":\"123\",\"Ciudad\":\"bogota\"},{\"pregrado\":\"ciencias politicas\",\"Universidad\":\"universidad pontificia bolivariana\",\"detalles\":\"\",\"Descripcion\":\"el politologo de la upb podra desempe\\\\u00f1arse en tres dominios especiales\\\\u00a0 en la sociedad, pulico, juridico, asesor politico\",\"SNIES\":\"17723\",\"Registro calificado\":\"resolucion 534 del 42384, vigencia 4 a\\\\u00f1os\",\"Nivel de formaci\\\\u00f3n\":\"pregrado\",\"Tipo de formaci\\\\u00f3n\":\"universitaria\",\"T\\\\u00edtulo otorgado\":\"politologo\",\"Modalidad\":\"presencial\",\"Duraci\\\\u00f3n\":\"8 semestres\",\"Cr\\\\u00e9ditos\":\"134\",\"Ciudad\":\"medellin\"},{\"pregrado\":\"ciencias politicas\",\"Universidad\":\"universidad eafit - medellin\",\"detalles\":\"lineas de enfasis:\",\"Descripcion\":\"el politologo de eafit es un profesional con impacto social, toma decisiones frente a temas socio-politicos basadas en conocimiento sobre las dinamicas del poder a traves de una vision integral de la sociedad. es un profesional que aporta a las esferas publicas y privadas a traves de la investigacion cuantitativa y cualitativa. ademas, cuenta con una capacidad de analisis y reflexion \\\\u0096 critica para responder con claridad y argumentos a los dilemas que plantea la resolucion de problemas sociales y politicos.\",\"SNIES\":\"19032\",\"Registro calificado\":\"resolucion . 11926 del 14 de noviembre de 2019, vigencia 7 a\\\\u00f1os\",\"Nivel de formaci\\\\u00f3n\":\"pregrado\",\"Tipo de formaci\\\\u00f3n\":\"universitaria\",\"T\\\\u00edtulo otorgado\":\"politologo\",\"Modalidad\":\"presencial\",\"Duraci\\\\u00f3n\":\"9 semestres\",\"Cr\\\\u00e9ditos\":\"161\",\"Ciudad\":\"medellin\"}]'}"
      ]
     },
     "metadata": {},
     "execution_count": 24
    }
   ],
   "source": [
    "get_pregrados_info(best_careers)"
   ]
  },
  {
   "cell_type": "code",
   "execution_count": 72,
   "metadata": {},
   "outputs": [],
   "source": [
    "def get_tables(dictionario):\n",
    "    sorted_dict = sort_porcentajes(dictionario)\n",
    "    best_careers = list(sorted_dict)[:3]\n",
    "    best_careers = [career.lower() for career in best_careers]\n",
    "    return get_pregrados_info(best_careers)"
   ]
  },
  {
   "cell_type": "code",
   "execution_count": null,
   "metadata": {},
   "outputs": [],
   "source": []
  },
  {
   "cell_type": "code",
   "execution_count": null,
   "metadata": {},
   "outputs": [],
   "source": []
  }
 ],
 "metadata": {
  "kernelspec": {
   "name": "python395jvsc74a57bd0774ed1dedce2923a8e59184d2f2897b48c3ced8b2f91d46b17cc30305ca595af",
   "display_name": "Python 3.9.5 64-bit"
  },
  "language_info": {
   "codemirror_mode": {
    "name": "ipython",
    "version": 3
   },
   "file_extension": ".py",
   "mimetype": "text/x-python",
   "name": "python",
   "nbconvert_exporter": "python",
   "pygments_lexer": "ipython3",
   "version": "3.9.5"
  },
  "metadata": {
   "interpreter": {
    "hash": "7c82862da64b53b7255d956966d960809733628ec9b3e85c442b80ccd79c05cc"
   }
  }
 },
 "nbformat": 4,
 "nbformat_minor": 4
}