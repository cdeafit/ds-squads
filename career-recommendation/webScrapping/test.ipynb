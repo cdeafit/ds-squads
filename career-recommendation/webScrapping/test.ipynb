{
 "metadata": {
  "language_info": {
   "codemirror_mode": {
    "name": "ipython",
    "version": 3
   },
   "file_extension": ".py",
   "mimetype": "text/x-python",
   "name": "python",
   "nbconvert_exporter": "python",
   "pygments_lexer": "ipython3",
   "version": "3.9.5"
  },
  "orig_nbformat": 2,
  "kernelspec": {
   "name": "python395jvsc74a57bd07c82862da64b53b7255d956966d960809733628ec9b3e85c442b80ccd79c05cc",
   "display_name": "Python 3.9.5 64-bit (windows store)"
  },
  "metadata": {
   "interpreter": {
    "hash": "7c82862da64b53b7255d956966d960809733628ec9b3e85c442b80ccd79c05cc"
   }
  }
 },
 "nbformat": 4,
 "nbformat_minor": 2,
 "cells": [
  {
   "cell_type": "code",
   "execution_count": 61,
   "metadata": {},
   "outputs": [],
   "source": [
    "import json\n",
    "import pandas as pd\n",
    "import regex as rx"
   ]
  },
  {
   "cell_type": "code",
   "execution_count": 48,
   "metadata": {},
   "outputs": [
    {
     "output_type": "stream",
     "name": "stdout",
     "text": [
      "0                                      Campos de acción\n1                                     Objeto de estudio\n2                                                      \n3                                                      \n4     Abordar el sistema jurídico como conjunto de n...\n5     Campos de acciónEl Administrador de Empresas d...\n6     Objeto de estudioEl cuidado del animal que se ...\n7     Campos de acciónEl profesional de Contaduría P...\n8                                                      \n9     Perfil Profesional:El Programa de Medicina def...\n10                                   Perfil profesional\n11    Perfil ProfesionalEl perfil profesional del Li...\n12    Perfil Profesional:Énfasis en Telecomunicacion...\n13    Perfil ProfesionalEl egresado de la Maestría e...\n14    Perfil ProfesionalEl licenciado de la Licencia...\n15    Perfil ProfesionalEl Perfil Profesional del Ec...\n16    Perfil ProfesionalLa esencia de su ejercicio p...\n17    Perfil Profesional:En cuanto a su quehacer pro...\n18        Perfil ProfesionalModalidad de Investigación:\n19    ProfesionalEl programa de Física forma profesi...\n20    Perfil profesionalEl egresado del programa de ...\n21    Perfil Profesional El Contador Público de la U...\n22                                   Perfil Ocupacional\n23    Perfil profesional Buscar, obtener y analizar ...\n24    Perfil ProfesionalEl Programa de Ingeniería de...\n25    Perfil Profesional El programa en Artes Visual...\n26                                   Perfil Profesional\n27    Perfil Profesional:El tecnólogo (a) en proceso...\n28    Perfil tecnológico El Tecnólogo en Topografía,...\n29                                   Perfil Profesional\n30    Perfil Profesional El ingeniero de sistemas y ...\n31    Perfil Profesional El trabajador social como: ...\n32    Perfil ProfesionalEn el escenario de la Seguri...\n33    Perfil ProfesionalPara el programa Licenciatur...\n34    Perfil profesionalEl Doctor en Ciencias de la ...\n35    Perfil Profesional:El egresado de la carrera d...\n36    Perfil ProfesionalEl tecnólogo (a) en procesos...\n37    Perfil ProfesionalEl egresado del programa de ...\n38                                   Perfil profesional\n39    Perfil ProfesionalEl profesional en Administra...\n40    Perfil profesional:El Ingeniero (a) Civil de l...\n41    Perfil profesional El (a) Administrador(a) Fin...\n42                          Perfil ProfesionalConocedor\n43    Profesional Los beneficiarios directos de esta...\n44                 Perfil Tecnológico en Obras Civiles:\n45    Perfil ProfesionalEl biólogo (a), que se forma...\n46    Perfil profesionalEl licenciado en Literatura ...\n47    Perfil ProfesionalEl Programa de Tecnología en...\n48    Perfil Profesional:El Licenciado en Educación ...\n49    Perfil profesionalFundamentación Científica: A...\nName: detalles, dtype: object\n"
     ]
    }
   ],
   "source": [
    "f = open('file.txt', 'r')\n",
    "data = json.load(f)\n",
    "df = pd.DataFrame.from_dict(data)\n",
    "print(df['detalles'].head(50))"
   ]
  },
  {
   "cell_type": "code",
   "execution_count": 72,
   "metadata": {},
   "outputs": [
    {
     "output_type": "execute_result",
     "data": {
      "text/plain": [
       "0                                     Campos de acción\n",
       "1                                    Objeto de estudio\n",
       "2                                                     \n",
       "3                                                     \n",
       "4    Abordar el sistema jurídico como conjunto de n...\n",
       "Name: detalles, dtype: object"
      ]
     },
     "metadata": {},
     "execution_count": 72
    }
   ],
   "source": [
    "extr = df['detalles'].str.strip(' ')\n",
    "extr.head()"
   ]
  },
  {
   "cell_type": "code",
   "execution_count": null,
   "metadata": {},
   "outputs": [],
   "source": []
  }
 ]
}