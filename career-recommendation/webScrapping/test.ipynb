{
 "cells": [
  {
   "cell_type": "code",
   "execution_count": 4,
   "metadata": {},
   "outputs": [],
   "source": [
    "import json\n",
    "import pandas as pd\n",
    "import regex as rx"
   ]
  },
  {
   "cell_type": "code",
   "execution_count": 5,
   "metadata": {},
   "outputs": [
    {
     "output_type": "stream",
     "name": "stdout",
     "text": [
      "0                                      campos de accion\n1                                     objeto de estudio\n2                                                      \n3                                                      \n4     abordar el sistema juridico como conjunto de n...\n5     campos de accionel administrador de empresas d...\n6     objeto de estudioel cuidado del animal que se ...\n7     campos de accionel profesional de contaduria p...\n8                                                      \n9     perfil profesional:el programa de medicina def...\n10                                   perfil profesional\n11    perfil profesionalel perfil profesional del li...\n12    perfil profesional:enfasis en telecomunicacion...\n13    perfil profesionalel egresado de la maestria e...\n14    perfil profesionalel licenciado de la licencia...\n15    perfil profesionalel perfil profesional del ec...\n16    perfil profesionalla esencia de su ejercicio p...\n17    perfil profesional:en cuanto a su quehacer pro...\n18        perfil profesionalmodalidad de investigacion:\n19    profesionalel programa de fisica forma profesi...\n20    perfil profesionalel egresado del programa de ...\n21    perfil profesional el contador publico de la u...\n22                                   perfil ocupacional\n23    perfil profesional buscar, obtener y analizar ...\n24    perfil profesionalel programa de ingenieria de...\n25    perfil profesional el programa en artes visual...\n26                                   perfil profesional\n27    perfil profesional:el tecnologo (a) en proceso...\n28    perfil tecnologico el tecnologo en topografia,...\n29                                   perfil profesional\n30    perfil profesional el ingeniero de sistemas y ...\n31    perfil profesional el trabajador social como: ...\n32    perfil profesionalen el escenario de la seguri...\n33    perfil profesionalpara el programa licenciatur...\n34    perfil profesionalel doctor en ciencias de la ...\n35    perfil profesional:el egresado de la carrera d...\n36    perfil profesionalel tecnologo (a) en procesos...\n37    perfil profesionalel egresado del programa de ...\n38                                   perfil profesional\n39    perfil profesionalel profesional en administra...\n40    perfil profesional:el ingeniero (a) civil de l...\n41    perfil profesional el (a) administrador(a) fin...\n42                          perfil profesionalconocedor\n43    profesional los beneficiarios directos de esta...\n44                 perfil tecnologico en obras civiles:\n45    perfil profesionalel biologo (a), que se forma...\n46    perfil profesionalel licenciado en literatura ...\n47    perfil profesionalel programa de tecnologia en...\n48    perfil profesional:el licenciado en educacion ...\n49    perfil profesionalfundamentacion cientifica: a...\nName: detalles, dtype: object\n"
     ]
    }
   ],
   "source": [
    "f = open('file.txt', 'r')\n",
    "data = json.load(f)\n",
    "df = pd.DataFrame.from_dict(data)\n",
    "print(df['detalles'].head(50))"
   ]
  },
  {
   "cell_type": "code",
   "execution_count": 38,
   "metadata": {},
   "outputs": [
    {
     "data": {
      "text/html": [
       "<div>\n",
       "<style scoped>\n",
       "    .dataframe tbody tr th:only-of-type {\n",
       "        vertical-align: middle;\n",
       "    }\n",
       "\n",
       "    .dataframe tbody tr th {\n",
       "        vertical-align: top;\n",
       "    }\n",
       "\n",
       "    .dataframe thead th {\n",
       "        text-align: right;\n",
       "    }\n",
       "</style>\n",
       "<table border=\"1\" class=\"dataframe\">\n",
       "  <thead>\n",
       "    <tr style=\"text-align: right;\">\n",
       "      <th></th>\n",
       "      <th>pregrado</th>\n",
       "      <th>Universidad</th>\n",
       "      <th>detalles</th>\n",
       "      <th>Descripcion</th>\n",
       "      <th>SNIES</th>\n",
       "      <th>Registro calificado</th>\n",
       "      <th>Nivel de formación</th>\n",
       "      <th>Tipo de formación</th>\n",
       "      <th>Título otorgado</th>\n",
       "      <th>Modalidad</th>\n",
       "      <th>Duración</th>\n",
       "      <th>Créditos</th>\n",
       "      <th>Ciudad</th>\n",
       "    </tr>\n",
       "  </thead>\n",
       "  <tbody>\n",
       "    <tr>\n",
       "      <th>0</th>\n",
       "      <td>especializacion en gerencia de servicios de salud</td>\n",
       "      <td>universidad cooperativa de colombia - sede apa...</td>\n",
       "      <td>campos de accion</td>\n",
       "      <td>el programa de especializacion de gerencia de ...</td>\n",
       "      <td>6742</td>\n",
       "      <td>registro 20185 del 11 de diciembre de 2015, vi...</td>\n",
       "      <td>posgrado</td>\n",
       "      <td>especializacion</td>\n",
       "      <td>especialista en gerencia de servicio de salud</td>\n",
       "      <td>presencial</td>\n",
       "      <td>2 semestres</td>\n",
       "      <td>30</td>\n",
       "      <td>apartado</td>\n",
       "    </tr>\n",
       "    <tr>\n",
       "      <th>1</th>\n",
       "      <td>contaduria publica</td>\n",
       "      <td>universidad cooperativa de colombia - sede apa...</td>\n",
       "      <td>objeto de estudio</td>\n",
       "      <td>las particularidades de este programa que se r...</td>\n",
       "      <td>104897</td>\n",
       "      <td>resolucion 14090 del 07 de septiembre de 2015,...</td>\n",
       "      <td>pregrado</td>\n",
       "      <td>universitaria</td>\n",
       "      <td>contador publico</td>\n",
       "      <td>presencial</td>\n",
       "      <td>8 semestres</td>\n",
       "      <td>144</td>\n",
       "      <td>apartado</td>\n",
       "    </tr>\n",
       "    <tr>\n",
       "      <th>2</th>\n",
       "      <td>derecho</td>\n",
       "      <td>universidad cooperativa de colombia - sede apa...</td>\n",
       "      <td></td>\n",
       "      <td>el programa de derecho, estudia el sistema jur...</td>\n",
       "      <td>102434</td>\n",
       "      <td>resolucion 9967 del 17 de junio de 2020, vigen...</td>\n",
       "      <td>pregrado</td>\n",
       "      <td>universitaria</td>\n",
       "      <td>abogado</td>\n",
       "      <td>presencial</td>\n",
       "      <td>10 semestres</td>\n",
       "      <td>158</td>\n",
       "      <td>apartado</td>\n",
       "    </tr>\n",
       "    <tr>\n",
       "      <th>3</th>\n",
       "      <td>psicologia</td>\n",
       "      <td>universidad cooperativa de colombia - sede arauca</td>\n",
       "      <td></td>\n",
       "      <td>en la universidad cooperativa de colombia, el ...</td>\n",
       "      <td>54920</td>\n",
       "      <td>resolucion 16951 del 22 de agosto de 2016​, vi...</td>\n",
       "      <td>pregrado</td>\n",
       "      <td>profesional universitaria</td>\n",
       "      <td>psicologo</td>\n",
       "      <td>presencial</td>\n",
       "      <td>8 semestres</td>\n",
       "      <td>147</td>\n",
       "      <td>arauca</td>\n",
       "    </tr>\n",
       "    <tr>\n",
       "      <th>4</th>\n",
       "      <td>derecho</td>\n",
       "      <td>universidad cooperativa de colombia - sede arauca</td>\n",
       "      <td>abordar el sistema juridico como conjunto de n...</td>\n",
       "      <td>el programa de derecho que se ofrece en la ins...</td>\n",
       "      <td>8630</td>\n",
       "      <td>resolucion 10893 del 01 de junio de 2016, vige...</td>\n",
       "      <td>pregrado</td>\n",
       "      <td>universitaria</td>\n",
       "      <td>abogado</td>\n",
       "      <td>presencial</td>\n",
       "      <td>10 semestres</td>\n",
       "      <td>158</td>\n",
       "      <td>arauca</td>\n",
       "    </tr>\n",
       "  </tbody>\n",
       "</table>\n",
       "</div>"
      ],
      "text/plain": [
       "                                            pregrado  \\\n",
       "0  especializacion en gerencia de servicios de salud   \n",
       "1                                 contaduria publica   \n",
       "2                                            derecho   \n",
       "3                                         psicologia   \n",
       "4                                            derecho   \n",
       "\n",
       "                                         Universidad  \\\n",
       "0  universidad cooperativa de colombia - sede apa...   \n",
       "1  universidad cooperativa de colombia - sede apa...   \n",
       "2  universidad cooperativa de colombia - sede apa...   \n",
       "3  universidad cooperativa de colombia - sede arauca   \n",
       "4  universidad cooperativa de colombia - sede arauca   \n",
       "\n",
       "                                            detalles  \\\n",
       "0                                   campos de accion   \n",
       "1                                  objeto de estudio   \n",
       "2                                                      \n",
       "3                                                      \n",
       "4  abordar el sistema juridico como conjunto de n...   \n",
       "\n",
       "                                         Descripcion   SNIES  \\\n",
       "0  el programa de especializacion de gerencia de ...    6742   \n",
       "1  las particularidades de este programa que se r...  104897   \n",
       "2  el programa de derecho, estudia el sistema jur...  102434   \n",
       "3  en la universidad cooperativa de colombia, el ...   54920   \n",
       "4  el programa de derecho que se ofrece en la ins...    8630   \n",
       "\n",
       "                                 Registro calificado Nivel de formación  \\\n",
       "0  registro 20185 del 11 de diciembre de 2015, vi...           posgrado   \n",
       "1  resolucion 14090 del 07 de septiembre de 2015,...           pregrado   \n",
       "2  resolucion 9967 del 17 de junio de 2020, vigen...           pregrado   \n",
       "3  resolucion 16951 del 22 de agosto de 2016​, vi...           pregrado   \n",
       "4  resolucion 10893 del 01 de junio de 2016, vige...           pregrado   \n",
       "\n",
       "           Tipo de formación                                Título otorgado  \\\n",
       "0            especializacion  especialista en gerencia de servicio de salud   \n",
       "1              universitaria                               contador publico   \n",
       "2              universitaria                                        abogado   \n",
       "3  profesional universitaria                                      psicologo   \n",
       "4              universitaria                                        abogado   \n",
       "\n",
       "    Modalidad      Duración Créditos    Ciudad  \n",
       "0  presencial   2 semestres       30  apartado  \n",
       "1  presencial   8 semestres      144  apartado  \n",
       "2  presencial  10 semestres      158  apartado  \n",
       "3  presencial   8 semestres      147    arauca  \n",
       "4  presencial  10 semestres      158    arauca  "
      ]
     },
     "execution_count": 38,
     "metadata": {},
     "output_type": "execute_result"
    }
   ],
   "source": [
    "for column in df.columns:\n",
    "    df[column] = df[column].str.strip().str.lower()\n",
    "    replacements = (\n",
    "            (\"á\", \"a\"),\n",
    "            (\"é\", \"e\"),\n",
    "            (\"í\", \"i\"),\n",
    "            (\"ó\", \"o\"),\n",
    "            (\"ú\", \"u\"),\n",
    "        )\n",
    "    for a, b in replacements:\n",
    "        df[column] = df[column].str.replace(a, b)\n",
    "df.columns = [column.replace(\":\", \"\") for column in df.columns]\n",
    "df.head()"
   ]
  },
  {
   "cell_type": "code",
   "execution_count": 6,
   "metadata": {},
   "outputs": [
    {
     "output_type": "execute_result",
     "data": {
      "text/plain": [
       "1"
      ]
     },
     "metadata": {},
     "execution_count": 6
    }
   ],
   "source": [
    "result = df.to_json(orient=\"records\")\n",
    "f = open(\"file.txt\", 'w')\n",
    "f.write(\"a\")"
   ]
  },
  {
   "cell_type": "code",
   "execution_count": 8,
   "metadata": {},
   "outputs": [
    {
     "output_type": "stream",
     "name": "stdout",
     "text": [
      "Series([], Name: pregrado, dtype: object)\n"
     ]
    }
   ],
   "source": [
    "extr = df[df['Nivel de formación'] == \"Pregrado\"]\n",
    "extr2 = extr['pregrado'].drop_duplicates()\n",
    "print(extr2)"
   ]
  },
  {
   "cell_type": "code",
   "execution_count": null,
   "metadata": {},
   "outputs": [],
   "source": []
  }
 ],
 "metadata": {
  "kernelspec": {
   "name": "python395jvsc74a57bd07c82862da64b53b7255d956966d960809733628ec9b3e85c442b80ccd79c05cc",
   "display_name": "Python 3.9.5 64-bit (windows store)"
  },
  "language_info": {
   "codemirror_mode": {
    "name": "ipython",
    "version": 3
   },
   "file_extension": ".py",
   "mimetype": "text/x-python",
   "name": "python",
   "nbconvert_exporter": "python",
   "pygments_lexer": "ipython3",
   "version": "3.9.5"
  },
  "metadata": {
   "interpreter": {
    "hash": "7c82862da64b53b7255d956966d960809733628ec9b3e85c442b80ccd79c05cc"
   }
  }
 },
 "nbformat": 4,
 "nbformat_minor": 4
}