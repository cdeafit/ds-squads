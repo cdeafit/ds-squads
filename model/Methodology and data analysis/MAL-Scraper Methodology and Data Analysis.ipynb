{
 "cells": [
  {
   "cell_type": "markdown",
   "metadata": {},
   "source": [
    "* [1.0 - Introduction](#1.0---Introduction)\n",
    "    - [1.1 - Imports](#1.1---Imports)   \n",
    "        \n",
    "    \n",
    "* [2.0 - Exploring the Raw Data](#2.0---Exploring-the-Raw-Data)\n",
    "    - [2.1 - Finding the best pages to scrape](#2.1---Finding-the-best-pages-to-scrape)\n",
    "    - [2.2 - Making the first request](#2.2---Making-the-first-request)    \n",
    "    - [2.3 - Breaking down the raw data](#2.3---Breaking-down-the-raw-data)        \n",
    "\n",
    "\n",
    "* [3.0 - Parsing and Cleaning the Reviews Data](#3.0---Parsing-and-Cleaning-the-Reviews-Data)\n",
    "    - [3.1 - Parsing the primary key, review_id](#3.1---Parsing-the-primary-key,-review_id)\n",
    "    - [3.2 - Parsing the foreign key, anime_id](#3.2---Parsing-the-foreign-key,-anime_id)\n",
    "    - [3.3 - Parsing and cleaning review information](#3.3---Parsing-and-cleaning-review-information)\n",
    "    - [3.4 - Parsing and cleaning review ratings](#3.4---Parsing-and-cleaning-review-ratings)    \n",
    "    - [3.5 - Parsing and cleaning review body and helpful counts](#3.5---Parsing-and-cleaning-review-body-and-helpful-counts)\n",
    "\n",
    "\n",
    "* [4.0 - Building the SQL Database](#4.0---Building-the-SQL-Database)\n",
    "    - [4.1 - Primary keys](#4.1---Primary-keys)        \n",
    "    - [4.2 - Foreign keys](#4.2---Foreign-keys)        \n",
    "    - [4.3 - Creating the database schema](#4.3---Creating-the-database-schema)     \n",
    "    - [4.4 - Inserting data into the tables](#4.4---Inserting-data-into-the-tables)     \n",
    "\n",
    "\n",
    "* [5.0 - Special Considerations](#5.0---Special-Considerations)\n",
    "    - [5.1 - Sleep times](#5.1---Sleep-times)        \n",
    "    - [5.2 - Request errors](#5.2---Request-errors)        \n",
    "    - [5.3 - Monitoring the scraping progress](#5.3---Monitoring-the-scraping-progress) \n",
    "    - [5.4 - Summary of the web scraping process](#5.4---Summary-of-the-web-scraping-process)\n",
    "\n",
    "\n",
    "* [6.0 - Exploratory Data Analysis](#6.0---Exploratory-Data-Analysis)\n",
    "    - [6.1 - The top 10 highest rated genres](#6.1---The-top-10-highest-rated-genres)\n",
    "    - [6.2 - Number of genres and ratings](#6.2---Number-of-genres-and-ratings)  \n",
    "    - [6.3 - The highest rated studio](#6.3---The-highest-rated-studio)\n",
    "    - [6.4 - Source material and ratings](#6.4---Source-material-and-ratings)  \n",
    "    \n",
    "\n",
    "![database_schema](https://raw.githubusercontent.com/sengkchu/MAL-reviews-scraper/master/databaseschema.PNG)"
   ]
  },
  {
   "cell_type": "markdown",
   "metadata": {},
   "source": [
    "### 1.0 - Introduction\n",
    "\n",
    "Data is all around us, but getting that data and processing it into a readable format is usually the most time consuming part of any data pipeline. In this notebook, I will focus on web scraping using BeautifulSoup. The idea is to come up with a generic process that can be used for most websites and turn the internet itself into a data source. We also want to scrape the website in such a way that follows the \"tidy data\" format based on the [paper](http://vita.had.co.nz/papers/tidy-data.html) by Hadley Wickham.\n",
    "\n",
    "The target for this project will be [MyAnimeList.net](https://myanimelist.net/), an anime review website where users can sign up and give a review and/or a rating on various animes. This website is similar to IMDB, but it is focused on Japanese animation. I am going to showcase the methodology of scraping this website into a SQLite database that can be easily queried.\n",
    "\n",
    "I will also do a bit of data analysis using SQL and pandas to explore the following questions:\n",
    "\n",
    "+ What are the top 10 genres by popularity and rating?\n",
    "+ Is there a correlation between the number of genres vs. ratings?\n",
    "+ What is the studio with the highest average rating for the anime they've produced?\n",
    "+ Is there a connection between source material of an anime vs. ratings?\n",
    "\n",
    "For a complete list of requirements and the detailed code for this project, check out my GitHub repository [here](https://github.com/sengkchu/MAL-reviews-scraper).\n"
   ]
  },
  {
   "cell_type": "markdown",
   "metadata": {},
   "source": [
    "#### 1.1 - Imports\n",
    "\n",
    "We will use `requests.get()` for getting the raw data, and `BeautifulSoup` for parsing the HTML data. `time`, `random` are used for adding intervals between requests, so we don't hammer the servers with too many requests.\n",
    "\n",
    "For data storage, we will use `sqlite3`. For data analysis, we will use `pandas`, `seaborn`, `numpy`, and `matplotlib`."
   ]
  },
  {
   "cell_type": "code",
   "execution_count": 1,
   "metadata": {
    "collapsed": true
   },
   "outputs": [],
   "source": [
    "from requests import get\n",
    "from bs4 import BeautifulSoup\n",
    "import time\n",
    "import random\n",
    "import math\n",
    "import sqlite3\n",
    "import pandas as pd\n",
    "import matplotlib.pyplot as plt\n",
    "import numpy as np\n",
    "import seaborn as sns\n",
    "sns.set(font_scale=1.5)"
   ]
  },
  {
   "cell_type": "markdown",
   "metadata": {},
   "source": [
    "### 2.0 - Exploring the Raw Data\n",
    "\n",
    "Before we start, we have to find out what pages we want to target for this project. I did not come up the database schema from the start. This was something I thought about later down the line. This is a top-down approach where we first thinking about what kind of data we are looking for, then we build our database around the initial data."
   ]
  },
  {
   "cell_type": "markdown",
   "metadata": {},
   "source": [
    "#### 2.1 - Finding the best pages to scrape\n",
    "\n",
    "For this project, we are mainly interested in the reviews data. I usually try to look for webpages that fits the following:\n",
    "\n",
    "+ URL structure with a pattern.\n",
    "+ Contains as much data as possible.\n",
    "+ Relatively easy to parse.\n",
    "\n",
    "In addition, we have to think about how we will structure our relational database to store the data along the way.\n",
    "\n",
    "![reviews_container](https://raw.githubusercontent.com/sengkchu/MAL-reviews-scraper/master/Methodology%20and%20data%20analysis/reviews_container.PNG)\n",
    "\n",
    "This page has about 50 of these containers. So we are scraping 50 reviews everytime we make a request. I highlighted some of the information we want to scrape.\n",
    "\n",
    "<img src=\"https://raw.githubusercontent.com/sengkchu/MAL-reviews-scraper/master/Methodology%20and%20data%20analysis/reviews_url.PNG\" align=\"center\"/>\n",
    "\n",
    "The URL structure is also easy to identify. We can set up a for loop from p=1 to p=N. "
   ]
  },
  {
   "cell_type": "markdown",
   "metadata": {},
   "source": [
    "#### 2.2 - Making the first request\n",
    "\n",
    "The next step is to see what the raw data looks like, all we have to do is enter the URL and the `get()` function. The headers is what people on the server side sees, generally it is a good idea to be courteous and explain why you are scraping their data."
   ]
  },
  {
   "cell_type": "code",
   "execution_count": 2,
   "metadata": {},
   "outputs": [
    {
     "name": "stdout",
     "output_type": "stream",
     "text": [
      "200\n"
     ]
    }
   ],
   "source": [
    "url = 'https://myanimelist.net/reviews.php?t=anime&p=6'\n",
    "headers = {\n",
    "        \"User-Agent\": \"mal review scraper for research.\"\n",
    "}\n",
    "response = get(url)\n",
    "print(response.status_code)"
   ]
  },
  {
   "cell_type": "markdown",
   "metadata": {},
   "source": [
    "A response 200 indicates that the request was successful. Next, we'll use beautiful soup to find out what the data looks like."
   ]
  },
  {
   "cell_type": "code",
   "execution_count": 3,
   "metadata": {
    "collapsed": true
   },
   "outputs": [],
   "source": [
    "html_soup = BeautifulSoup(response.text, 'html.parser')"
   ]
  },
  {
   "cell_type": "markdown",
   "metadata": {},
   "source": [
    "![reviews_mess](https://raw.githubusercontent.com/sengkchu/MAL-reviews-scraper/master/Methodology%20and%20data%20analysis/reviews_mess.PNG)"
   ]
  },
  {
   "cell_type": "markdown",
   "metadata": {},
   "source": [
    "Now this is where the fun part begins, we have to figure out a pattern in the soup object, so we can extract the same data for every single container on this page."
   ]
  },
  {
   "cell_type": "markdown",
   "metadata": {},
   "source": [
    "#### 2.3 - Breaking down the raw data\n",
    "\n",
    "Reading the HTML mess in Python is very tedious, it is a better idea to use the developer tools in Firefox or Chrome to explore the HTML. \n",
    "![reviews_inspect](https://raw.githubusercontent.com/sengkchu/MAL-reviews-scraper/master/Methodology%20and%20data%20analysis/reviews_inspect.PNG)\n",
    "\n",
    "![reviews_source](https://raw.githubusercontent.com/sengkchu/MAL-reviews-scraper/master/Methodology%20and%20data%20analysis/reviews_source.PNG)\n",
    "\n",
    "The inspect element feature on the browser is very useful for navigating the HTML code. Jumping into the HTML code on the page, we immediately see that each container is separated by `div` and `class = 'borderDark'`. Using the `.find_all()` method we can get a list of the 50 review containers."
   ]
  },
  {
   "cell_type": "code",
   "execution_count": 4,
   "metadata": {},
   "outputs": [
    {
     "data": {
      "text/plain": [
       "50"
      ]
     },
     "execution_count": 4,
     "metadata": {},
     "output_type": "execute_result"
    }
   ],
   "source": [
    "review_containers = html_soup.find_all('div', class_ = 'borderDark')\n",
    "len(review_containers)"
   ]
  },
  {
   "cell_type": "markdown",
   "metadata": {},
   "source": [
    "### 3.0 - Parsing and Cleaning the Reviews Data\n",
    "\n",
    "Now that we've split the page into 50 review containers, let's see what the review container look like. This data is still extremely messy, but it should be easier to work with than before. \n",
    "\n",
    "This is the most time consuming part of the web scraping process. Personally, I learned a lot of parsing techniques from this blog post from dataquest [here](https://www.dataquest.io/blog/web-scraping-beautifulsoup/). Going into the extreme details of the parsing techniques used is a bit beyond the scope of this notebook, but I will talk about the general methodology of the process."
   ]
  },
  {
   "cell_type": "code",
   "execution_count": 5,
   "metadata": {
    "collapsed": true
   },
   "outputs": [],
   "source": [
    "review = review_containers[22]"
   ]
  },
  {
   "cell_type": "markdown",
   "metadata": {},
   "source": [
    "![review_preview](https://raw.githubusercontent.com/sengkchu/MAL-reviews-scraper/master/Methodology%20and%20data%20analysis/reviews_preview.PNG)"
   ]
  },
  {
   "cell_type": "markdown",
   "metadata": {},
   "source": [
    "#### 3.1 - Parsing the primary key, review_id\n",
    "\n",
    "When building a SQL database, we have to determine what to use a primary key. The primary key ensures that only unique reviews get added into the database. Luckily, each review container has an ID stored within the metadata of the HTML.\n",
    "\n",
    "Playing arround with the `.find_all()` method and its attributes, `.attrs[]` gives us this result."
   ]
  },
  {
   "cell_type": "code",
   "execution_count": 6,
   "metadata": {},
   "outputs": [
    {
     "data": {
      "text/plain": [
       "'score278933'"
      ]
     },
     "execution_count": 6,
     "metadata": {},
     "output_type": "execute_result"
    }
   ],
   "source": [
    "review_id = review.find_all(\n",
    "    'div', attrs={'style':\"float: left; display: none; margin: 0 10px 10px 0\"})[0].attrs['id']\n",
    "review_id\n"
   ]
  },
  {
   "cell_type": "markdown",
   "metadata": {},
   "source": [
    "This data is a slightly dirty, we can use `.replace()` to get rid of the text."
   ]
  },
  {
   "cell_type": "code",
   "execution_count": 7,
   "metadata": {},
   "outputs": [
    {
     "data": {
      "text/plain": [
       "'278933'"
      ]
     },
     "execution_count": 7,
     "metadata": {},
     "output_type": "execute_result"
    }
   ],
   "source": [
    "review_id = review_id.replace('score', '')\n",
    "review_id"
   ]
  },
  {
   "cell_type": "markdown",
   "metadata": {},
   "source": [
    "#### 3.2 - Parsing the foreign key, anime_id\n",
    "\n",
    "We also have to think about what to use a foreign key to build upon our data. The reviews section does not have much information on the anime itself. So it is a good idea to scrape the anime_id for later use.\n",
    "\n",
    "We'll have to use `.find()` method and search for the class associated with the anime_id."
   ]
  },
  {
   "cell_type": "code",
   "execution_count": 8,
   "metadata": {},
   "outputs": [
    {
     "data": {
      "text/plain": [
       "'#revInfo35849'"
      ]
     },
     "execution_count": 8,
     "metadata": {},
     "output_type": "execute_result"
    }
   ],
   "source": [
    "anime_id = review.div.find('a', class_='hoverinfo_trigger').attrs['rel'][0]\n",
    "anime_id"
   ]
  },
  {
   "cell_type": "code",
   "execution_count": 9,
   "metadata": {},
   "outputs": [
    {
     "data": {
      "text/plain": [
       "'35849'"
      ]
     },
     "execution_count": 9,
     "metadata": {},
     "output_type": "execute_result"
    }
   ],
   "source": [
    "anime_id = anime_id.replace('#revInfo', '')\n",
    "anime_id"
   ]
  },
  {
   "cell_type": "markdown",
   "metadata": {},
   "source": [
    "#### 3.3 - Parsing and cleaning review information\n",
    "\n",
    "Using the similar method of using inspect element on the browser along with beautiful soup, we can parse and clean the rest of the data."
   ]
  },
  {
   "cell_type": "code",
   "execution_count": 10,
   "metadata": {
    "collapsed": true
   },
   "outputs": [],
   "source": [
    "review_element = review.div\n",
    "anime_name = review_element.find('a', class_='hoverinfo_trigger').text         \n",
    "username = review_element.find_all('td')[1].a.text\n",
    "review_date = review_element.div.div.text\n",
    "episodes_seen = review_element.div.find_all('div')[1].text.strip().split(' ')[0]"
   ]
  },
  {
   "cell_type": "markdown",
   "metadata": {
    "collapsed": true
   },
   "source": [
    "#### 3.4 - Parsing and cleaning review ratings"
   ]
  },
  {
   "cell_type": "code",
   "execution_count": 11,
   "metadata": {
    "collapsed": true
   },
   "outputs": [],
   "source": [
    "overall_rating = review_element.div.find_all('div')[2].text.strip().split('\\n')[1]\n",
    "story_rating = review.find_all('td', class_='borderClass')[3].text\n",
    "animation_rating = review.find_all('td', class_='borderClass')[5].text\n",
    "sound_rating = review.find_all('td', class_='borderClass')[7].text\n",
    "character_rating = review.find_all('td', class_='borderClass')[9].text    \n",
    "enjoyment_rating = review.find_all('td', class_='borderClass')[11].text"
   ]
  },
  {
   "cell_type": "markdown",
   "metadata": {},
   "source": [
    "#### 3.5 - Parsing and cleaning review body and helpful counts\n",
    "\n",
    "The body text is slightly different from the rest of the data. We'll have to use `.select()` to select the class and `contents()` to open up the contents of the class. The body of the review is located at the 5th and 6th element of the list."
   ]
  },
  {
   "cell_type": "code",
   "execution_count": 12,
   "metadata": {},
   "outputs": [
    {
     "data": {
      "text/plain": [
       "'What do you get if you mix a whole lot of Evangelion, a decent amount of Elfen Leid and just a pinch of Mirai Nikki? You get Darling in the FranXX. This review is spoiler free, and aimed at those contemplating whether or not to watch the series.\\n\\r\\n[THEMES/STORY]:\\n\\r\\n\"Jian, also known as \\'the bird who shares wings\\', only possess one wing. Unless a male and female pair lean on each other and act as one, they\\'re incapable of flight\" - Ep 1.\\n\\r\\nThis show is a little like Madoka Magica in that you will'"
      ]
     },
     "execution_count": 12,
     "metadata": {},
     "output_type": "execute_result"
    }
   ],
   "source": [
    "#Review helpful counts\n",
    "helpful_counts = review_element.find('span').text\n",
    "\n",
    "#Review Body\n",
    "body1 = review.select('div.spaceit.textReadability.word-break.pt8')[0].contents[4].strip()\n",
    "body2 = review.select('div.spaceit.textReadability.word-break.pt8')[0].contents[5].text.strip()\n",
    "review_body = (body1 + ' ' + body2)\n",
    "review_body[0:500]"
   ]
  },
  {
   "cell_type": "markdown",
   "metadata": {},
   "source": [
    "Next, we'll have to clean up the `\\n` and `\\r` from the body section. We'll just replace these with spaces."
   ]
  },
  {
   "cell_type": "code",
   "execution_count": 13,
   "metadata": {},
   "outputs": [
    {
     "data": {
      "text/plain": [
       "'What do you get if you mix a whole lot of Evangelion, a decent amount of Elfen Leid and just a pinch of Mirai Nikki? You get Darling in the FranXX. This review is spoiler free, and aimed at those contemplating whether or not to watch the series.   [THEMES/STORY]:   \"Jian, also known as \\'the bird who shares wings\\', only possess one wing. Unless a male and female pair lean on each other and act as one, they\\'re incapable of flight\" - Ep 1.   This show is a little like Madoka Magica in that you will'"
      ]
     },
     "execution_count": 13,
     "metadata": {},
     "output_type": "execute_result"
    }
   ],
   "source": [
    "review_body = (body1 + ' ' + body2).replace('\\n', ' ').replace('\\r', ' ')\n",
    "review_body[0:500]"
   ]
  },
  {
   "cell_type": "markdown",
   "metadata": {},
   "source": [
    "That is it for prototyping the reviews scraper! So far, we managed to scrape data from one container on one page. We can apply a similar process for scraping anime information, tags, and studio names. Then use a for loop to scrape every container on every page. The detailed code for parsing/cleaning of the data on the other tables can be found in my GitHub repository."
   ]
  },
  {
   "cell_type": "markdown",
   "metadata": {},
   "source": [
    "### 4.0 - Building the SQL Database\n",
    "\n",
    "The next problem we need to tackle is data storage. While it is possible to store everything in memory using pandas, it makes more sense to store the information into a SQL database. If the dataset is very large, I am pretty sure my computer will run out of memory.\n",
    "\n",
    "First, let's start off with some helper functions."
   ]
  },
  {
   "cell_type": "code",
   "execution_count": 14,
   "metadata": {
    "collapsed": true
   },
   "outputs": [],
   "source": [
    "def run_query(DB, q):\n",
    "    with sqlite3.connect(DB) as conn:\n",
    "        return pd.read_sql(q,conn)\n",
    "\n",
    "def run_command(DB, c):\n",
    "    with sqlite3.connect(DB) as conn:\n",
    "        conn.execute('PRAGMA foreign_keys = ON;')\n",
    "        conn.isolation_level = None\n",
    "        conn.execute(c)\n",
    "        \n",
    "def run_inserts(DB, c, values):\n",
    "    with sqlite3.connect(DB) as conn:\n",
    "        conn.execute('PRAGMA foreign_keys = ON;')\n",
    "        conn.isolation_level = None\n",
    "        conn.execute(c, values) "
   ]
  },
  {
   "cell_type": "markdown",
   "metadata": {},
   "source": [
    "I created three helper functions:\n",
    "+ `run_query()` reads a SQL query and returns a pandas dataframe,\n",
    "+ `run_command()` executes a SQL command with consideration of foreign keys and autocommit changes.\n",
    "+ `run_inserts()` executes a SQL command specifically used for writing into the database."
   ]
  },
  {
   "cell_type": "markdown",
   "metadata": {},
   "source": [
    "#### 4.1 - Primary keys\n",
    "\n",
    "The first thing we'll have to think about is what to use as a primary key. If we are scraping data from the internet, we probably want to avoid generating our own primary keys using `AUTOINCREMENT`. Internet pages are usually dynamic, and we want to make sure we don't scrape the same thing twice.\n",
    "\n",
    "So far, we know we can scrape `anime_id` and `review_id` directly. But, we also have to consider that every anime has its own studio, and genres. We can get this information off the url structure itself.\n",
    "\n",
    "<img src=\"https://raw.githubusercontent.com/sengkchu/MAL-reviews-scraper/master/Methodology%20and%20data%20analysis/studio_genre_url.PNG\" align=\"center\"/>"
   ]
  },
  {
   "cell_type": "markdown",
   "metadata": {},
   "source": [
    "#### 4.2 - Foreign keys\n",
    "\n",
    "So far we have the following primary keys:\n",
    "\n",
    "+ review_id\n",
    "+ anime_id\n",
    "+ tag_id\n",
    "+ studio_id\n",
    "\n",
    "Now we have to think about how to relate these keys with each other. A studio can produce many animes, and each anime can have many reviews. Immediately, we know we should relate these three ids together using foreign keys.\n",
    "\n",
    "But what about the tags(genres)? An anime can have many tags, and each tag can have many animes. The solution to problem is to create a many to many intermediate table. This table will store the anime_ids and tag_ids together as a key."
   ]
  },
  {
   "cell_type": "markdown",
   "metadata": {},
   "source": [
    "#### 4.3 - Creating the database schema\n",
    "\n",
    "At the end of the day, we have the following database schema,\n",
    "\n",
    "![database_schema](https://raw.githubusercontent.com/sengkchu/MAL-reviews-scraper/master/databaseschema.PNG)\n",
    "\n",
    "Now we just have to write some SQL queries to create the database. The detailed queries to make create the above tables can be found in createtables.py."
   ]
  },
  {
   "cell_type": "markdown",
   "metadata": {},
   "source": [
    "#### 4.4 - Inserting data into the tables\n",
    "\n",
    "Okay, so we have the database schema, now we have to think about how to write down the information into the database. We can accomplish this by using an INSERT command. "
   ]
  },
  {
   "cell_type": "code",
   "execution_count": 15,
   "metadata": {
    "collapsed": true
   },
   "outputs": [],
   "source": [
    "DB = 'anime.db'\n",
    "\n",
    "insert_command = '''\n",
    "INSERT OR IGNORE INTO reviews(\n",
    "    review_id,\n",
    "    anime_id, \n",
    "    username, \n",
    "    review_date,\n",
    "    episodes_seen,\n",
    "    overall_rating,\n",
    "    story_rating,\n",
    "    animation_rating,\n",
    "    sound_rating,\n",
    "    character_rating,\n",
    "    enjoyment_rating,\n",
    "    helpful_counts,    \n",
    "    review_body\n",
    "    ) \n",
    "VALUES (?, ?, ?, ?, ?, ?, ?, ?, ?, ?, ?, ?, ?)\n",
    "'''\n",
    "\n",
    "run_inserts(\n",
    "    DB, insert_command,(\n",
    "        int(review_id), int(anime_id), username, review_date, \\\n",
    "        episodes_seen, int(overall_rating), \\\n",
    "        int(story_rating), int(animation_rating), int(sound_rating), \\\n",
    "        int(character_rating), int(enjoyment_rating), int(helpful_counts), review_body\n",
    "    )\n",
    ")"
   ]
  },
  {
   "cell_type": "markdown",
   "metadata": {},
   "source": [
    "### 5.0 - Special Considerations\n",
    "\n",
    "When we apply a for loop to our prototype, we could potentially hammer the servers with too many requests. It is generally a good idea to be courteous when extracting information from another website as a third party application.\n",
    "\n",
    "In addition, we also want a way to monitor our for loop using `print()` functions and handle any potential errors that can occur."
   ]
  },
  {
   "cell_type": "markdown",
   "metadata": {},
   "source": [
    "####  5.1 - Sleep times\n",
    "\n",
    "We can artificially inject a sleep time in between each iteration of the for loop using `time.sleep()`. We also want to mimic human behavior by varying the sleep times. This can be accomplished by using `random.uniform()` which selects a random float value between two integers."
   ]
  },
  {
   "cell_type": "code",
   "execution_count": 16,
   "metadata": {},
   "outputs": [
    {
     "name": "stdout",
     "output_type": "stream",
     "text": [
      "Loop #: 1\n",
      "Elapsed Time: 2.1878020763397217 seconds\n",
      "Loop #: 2\n",
      "Elapsed Time: 6.901684284210205 seconds\n",
      "Loop #: 3\n",
      "Elapsed Time: 9.803745985031128 seconds\n"
     ]
    }
   ],
   "source": [
    "sleep_min = 2\n",
    "sleep_max = 5\n",
    "\n",
    "start_time = time.time()\n",
    "for i in range(1, 4):\n",
    "    time.sleep(random.uniform(sleep_min, sleep_max))\n",
    "    print('Loop #: {}'.format(i))\n",
    "    print('Elapsed Time: {} seconds'.format(time.time() - start_time))\n",
    "      "
   ]
  },
  {
   "cell_type": "markdown",
   "metadata": {},
   "source": [
    "#### 5.2 - Request errors\n",
    "\n",
    "If our internet goes out in the middle of the loop or if we reach a page that doesn't exist. We want to print out an error message and log the error. For simplicity of this example, I dumped the error onto a list. In the actual script, we probably want to write the errors into a text file."
   ]
  },
  {
   "cell_type": "code",
   "execution_count": 17,
   "metadata": {},
   "outputs": [
    {
     "name": "stdout",
     "output_type": "stream",
     "text": [
      "Scraping: https://myanimelist.net/reviews.php?t=anime&p=30000\n",
      "Request timeout\n",
      "Scraping: https://myanimelist.net/reviews.php?t=anime&p=30001\n",
      "Request timeout\n",
      "Scraping: https://myanimelist.net/reviews.php?t=anime&p=30002\n",
      "Status code: 404\n",
      "['Request timeout for https://myanimelist.net/reviews.php?t=anime&p=30000', 'Request timeout for https://myanimelist.net/reviews.php?t=anime&p=30001', 'Status code: 404 https://myanimelist.net/reviews.php?t=anime&p=30002']\n"
     ]
    }
   ],
   "source": [
    "sleep_min = 2\n",
    "sleep_max = 5\n",
    "\n",
    "log = []\n",
    "for i in range(30000, 30003):\n",
    "    time.sleep(random.uniform(sleep_min, sleep_max))\n",
    "    url = 'https://myanimelist.net/reviews.php?t=anime&p={}'.format(i)\n",
    "    headers = {\n",
    "        \"User-Agent\": \"mal review scraper for research.\"\n",
    "    }\n",
    "\n",
    "    print('Scraping: {}'.format(url))\n",
    "\n",
    "    \n",
    "    try:\n",
    "        response = get(url, headers=headers, timeout = 10)\n",
    "    except:\n",
    "        print('Request timeout')\n",
    "        log.append('Request timeout for {}'.format(url))\n",
    "        pass\n",
    "\n",
    "    if response.status_code != 200:\n",
    "        print('Status code: {}'.format(response.status_code))\n",
    "        log.append('Status code: {0} {1}'.format(response.status_code, url))\n",
    "        pass\n",
    "\n",
    "print(log)"
   ]
  },
  {
   "cell_type": "markdown",
   "metadata": {},
   "source": [
    "#### 5.3 - Monitoring the scraping progress\n",
    "\n",
    "Lastly, we want to include status messages that answers the following questions:\n",
    "\n",
    "+ What page are we scraping?\n",
    "+ How much time has passed?\n",
    "+ How many requests are we making per second?"
   ]
  },
  {
   "cell_type": "code",
   "execution_count": 18,
   "metadata": {},
   "outputs": [
    {
     "name": "stdout",
     "output_type": "stream",
     "text": [
      "Requests Completed: 1; Frequency: 0.22681064403497714 requests/s\n",
      "Elapased Time: 0.07348273595174154 minutes\n",
      "Pausing...\n",
      "Requests Completed: 2; Frequency: 0.23399229878595026 requests/s\n",
      "Elapased Time: 0.14245483080546062 minutes\n",
      "Pausing...\n",
      "Requests Completed: 3; Frequency: 0.2287163979898191 requests/s\n",
      "Elapased Time: 0.21861134767532348 minutes\n",
      "Pausing...\n",
      "Requests Completed: 4; Frequency: 0.2501008731176358 requests/s\n",
      "Elapased Time: 0.26655911207199096 minutes\n",
      "Pausing...\n",
      "Requests Completed: 5; Frequency: 0.2383797038429263 requests/s\n",
      "Elapased Time: 0.3495823343594869 minutes\n",
      "Scrape Complete\n"
     ]
    }
   ],
   "source": [
    "start_time = time.time()\n",
    "sleep_min = 2\n",
    "sleep_max = 5\n",
    "page_start = 1\n",
    "page_end = 5\n",
    "\n",
    "for i in range(page_start, (page_end+1)):\n",
    "    time.sleep(random.uniform(sleep_min, sleep_max))\n",
    "    current_time = time.time()\n",
    "    elapsed_time = current_time - start_time\n",
    "    requests = i    \n",
    "\n",
    "    print('Requests Completed: {}; Frequency: {} requests/s'.format(requests, requests/elapsed_time))\n",
    "    print('Elapased Time: {} minutes'.format(elapsed_time/60))\n",
    "    if requests == page_end:\n",
    "        print('Scrape Complete')\n",
    "        break\n",
    "    print('Pausing...')    \n",
    "       "
   ]
  },
  {
   "cell_type": "markdown",
   "metadata": {},
   "source": [
    "#### 5.4 - Summary of the web scraping process\n",
    "\n",
    "That is everything we need to put together a script to scrape the website! Please checkout my GitHub repository for the result!\n",
    "\n",
    "In summary, this is the process I would follow:\n",
    "\n",
    "![summary](https://raw.githubusercontent.com/sengkchu/MAL-reviews-scraper/master/Methodology%20and%20data%20analysis/summary.PNG)"
   ]
  },
  {
   "cell_type": "markdown",
   "metadata": {},
   "source": [
    "### 6.0 - Exploratory Data Analysis\n",
    "\n",
    "For the rest of this notebook, I will demonstrate several SQL queries on the database after we finished scraping the website. Suppose we are an anime studio looking to produce the next big anime. We want to do lots of research on the following:\n",
    "\n",
    "+ What is the genre of the anime we should go for?\n",
    "+ How many genres should we include in the anime?\n",
    "+ What should we use as the source material for the anime adaption?\n",
    "+ What is the highest rated studio? Maybe we can learn a bit from their success?\n",
    "\n",
    "Maybe that will give us some ideas of what the consumers are interested in."
   ]
  },
  {
   "cell_type": "markdown",
   "metadata": {},
   "source": [
    "#### 6.1 - The top 10 highest rated genres\n",
    "\n",
    "Determining the top 10 highest rated genres is very simple with the SQL databse, a basic `SELECT` query should do the trick. Unfortunately, SQLite does not have STDEV as an aggregate function. In addition, we have null values in the `overall_ratings` so we'll use pandas for the null values."
   ]
  },
  {
   "cell_type": "code",
   "execution_count": 19,
   "metadata": {},
   "outputs": [
    {
     "data": {
      "text/html": [
       "<div>\n",
       "<style scoped>\n",
       "    .dataframe tbody tr th:only-of-type {\n",
       "        vertical-align: middle;\n",
       "    }\n",
       "\n",
       "    .dataframe tbody tr th {\n",
       "        vertical-align: top;\n",
       "    }\n",
       "\n",
       "    .dataframe thead th {\n",
       "        text-align: right;\n",
       "    }\n",
       "</style>\n",
       "<table border=\"1\" class=\"dataframe\">\n",
       "  <thead>\n",
       "    <tr style=\"text-align: right;\">\n",
       "      <th></th>\n",
       "      <th>tag_id</th>\n",
       "      <th>Genre</th>\n",
       "      <th>anime_id</th>\n",
       "      <th>overall_rating</th>\n",
       "    </tr>\n",
       "  </thead>\n",
       "  <tbody>\n",
       "    <tr>\n",
       "      <th>41424</th>\n",
       "      <td>37</td>\n",
       "      <td>Supernatural</td>\n",
       "      <td>7495</td>\n",
       "      <td>null</td>\n",
       "    </tr>\n",
       "    <tr>\n",
       "      <th>41425</th>\n",
       "      <td>37</td>\n",
       "      <td>Supernatural</td>\n",
       "      <td>35709</td>\n",
       "      <td>null</td>\n",
       "    </tr>\n",
       "    <tr>\n",
       "      <th>41426</th>\n",
       "      <td>32</td>\n",
       "      <td>Vampire</td>\n",
       "      <td>3801</td>\n",
       "      <td>4.13</td>\n",
       "    </tr>\n",
       "    <tr>\n",
       "      <th>41427</th>\n",
       "      <td>33</td>\n",
       "      <td>Yaoi</td>\n",
       "      <td>6546</td>\n",
       "      <td>5.07</td>\n",
       "    </tr>\n",
       "    <tr>\n",
       "      <th>41428</th>\n",
       "      <td>33</td>\n",
       "      <td>Yaoi</td>\n",
       "      <td>9232</td>\n",
       "      <td>6.09</td>\n",
       "    </tr>\n",
       "  </tbody>\n",
       "</table>\n",
       "</div>"
      ],
      "text/plain": [
       "       tag_id         Genre  anime_id overall_rating\n",
       "41424      37  Supernatural      7495           null\n",
       "41425      37  Supernatural     35709           null\n",
       "41426      32       Vampire      3801           4.13\n",
       "41427      33          Yaoi      6546           5.07\n",
       "41428      33          Yaoi      9232           6.09"
      ]
     },
     "execution_count": 19,
     "metadata": {},
     "output_type": "execute_result"
    }
   ],
   "source": [
    "testq = '''\n",
    "SELECT \n",
    "    t.tag_id tag_id,\n",
    "    t.tag_name Genre,\n",
    "    a.anime_id,\n",
    "    a.overall_rating\n",
    "FROM animes a\n",
    "INNER JOIN anime_tags at ON a.anime_id = at.anime_id\n",
    "INNER JOIN tags t ON at.tag_id = t.tag_id\n",
    "\n",
    "'''\n",
    "\n",
    "table1 = run_query(DB, testq)\n",
    "table1.tail()"
   ]
  },
  {
   "cell_type": "code",
   "execution_count": 20,
   "metadata": {},
   "outputs": [
    {
     "data": {
      "text/html": [
       "<div>\n",
       "<style scoped>\n",
       "    .dataframe tbody tr th:only-of-type {\n",
       "        vertical-align: middle;\n",
       "    }\n",
       "\n",
       "    .dataframe tbody tr th {\n",
       "        vertical-align: top;\n",
       "    }\n",
       "\n",
       "    .dataframe thead th {\n",
       "        text-align: right;\n",
       "    }\n",
       "</style>\n",
       "<table border=\"1\" class=\"dataframe\">\n",
       "  <thead>\n",
       "    <tr style=\"text-align: right;\">\n",
       "      <th></th>\n",
       "      <th>tag_id</th>\n",
       "      <th>Genre</th>\n",
       "      <th>overall_rating_std</th>\n",
       "      <th>sample_size</th>\n",
       "      <th>overall_rating_mean</th>\n",
       "    </tr>\n",
       "  </thead>\n",
       "  <tbody>\n",
       "    <tr>\n",
       "      <th>40</th>\n",
       "      <td>41</td>\n",
       "      <td>Thriller</td>\n",
       "      <td>1.123790</td>\n",
       "      <td>97</td>\n",
       "      <td>7.302045</td>\n",
       "    </tr>\n",
       "    <tr>\n",
       "      <th>42</th>\n",
       "      <td>43</td>\n",
       "      <td>Josei</td>\n",
       "      <td>0.783113</td>\n",
       "      <td>81</td>\n",
       "      <td>7.254667</td>\n",
       "    </tr>\n",
       "    <tr>\n",
       "      <th>6</th>\n",
       "      <td>7</td>\n",
       "      <td>Mystery</td>\n",
       "      <td>0.835486</td>\n",
       "      <td>602</td>\n",
       "      <td>7.224606</td>\n",
       "    </tr>\n",
       "    <tr>\n",
       "      <th>26</th>\n",
       "      <td>27</td>\n",
       "      <td>Shounen</td>\n",
       "      <td>0.716568</td>\n",
       "      <td>1756</td>\n",
       "      <td>7.132192</td>\n",
       "    </tr>\n",
       "    <tr>\n",
       "      <th>38</th>\n",
       "      <td>39</td>\n",
       "      <td>Police</td>\n",
       "      <td>0.808493</td>\n",
       "      <td>219</td>\n",
       "      <td>7.129677</td>\n",
       "    </tr>\n",
       "    <tr>\n",
       "      <th>7</th>\n",
       "      <td>8</td>\n",
       "      <td>Drama</td>\n",
       "      <td>0.801834</td>\n",
       "      <td>2276</td>\n",
       "      <td>7.064534</td>\n",
       "    </tr>\n",
       "    <tr>\n",
       "      <th>41</th>\n",
       "      <td>42</td>\n",
       "      <td>Seinen</td>\n",
       "      <td>0.788471</td>\n",
       "      <td>691</td>\n",
       "      <td>7.048993</td>\n",
       "    </tr>\n",
       "    <tr>\n",
       "      <th>36</th>\n",
       "      <td>37</td>\n",
       "      <td>Supernatural</td>\n",
       "      <td>0.873404</td>\n",
       "      <td>1199</td>\n",
       "      <td>7.014661</td>\n",
       "    </tr>\n",
       "    <tr>\n",
       "      <th>22</th>\n",
       "      <td>23</td>\n",
       "      <td>School</td>\n",
       "      <td>0.758184</td>\n",
       "      <td>1397</td>\n",
       "      <td>7.000718</td>\n",
       "    </tr>\n",
       "    <tr>\n",
       "      <th>21</th>\n",
       "      <td>22</td>\n",
       "      <td>Romance</td>\n",
       "      <td>0.760988</td>\n",
       "      <td>1623</td>\n",
       "      <td>6.994559</td>\n",
       "    </tr>\n",
       "  </tbody>\n",
       "</table>\n",
       "</div>"
      ],
      "text/plain": [
       "    tag_id         Genre  overall_rating_std  sample_size  overall_rating_mean\n",
       "40      41      Thriller            1.123790           97             7.302045\n",
       "42      43         Josei            0.783113           81             7.254667\n",
       "6        7       Mystery            0.835486          602             7.224606\n",
       "26      27       Shounen            0.716568         1756             7.132192\n",
       "38      39        Police            0.808493          219             7.129677\n",
       "7        8         Drama            0.801834         2276             7.064534\n",
       "41      42        Seinen            0.788471          691             7.048993\n",
       "36      37  Supernatural            0.873404         1199             7.014661\n",
       "22      23        School            0.758184         1397             7.000718\n",
       "21      22       Romance            0.760988         1623             6.994559"
      ]
     },
     "execution_count": 20,
     "metadata": {},
     "output_type": "execute_result"
    }
   ],
   "source": [
    "#Handle null values\n",
    "table1['overall_rating_std'] = pd.to_numeric(table1['overall_rating'], errors='coerce').dropna()\n",
    "table1['overall_rating_mean'] = pd.to_numeric(table1['overall_rating'], errors='coerce').dropna()\n",
    "table1['sample_size'] = 0\n",
    "\n",
    "table1_cleaned = table1.groupby(['tag_id', 'Genre'], as_index = False).agg({'overall_rating_std': np.std, 'overall_rating_mean': np.mean, 'sample_size': len})\n",
    "table1_cleaned = table1_cleaned.sort_values(by=['overall_rating_mean'], ascending = False).head(10)\n",
    "table1_cleaned"
   ]
  },
  {
   "cell_type": "code",
   "execution_count": 21,
   "metadata": {},
   "outputs": [
    {
     "data": {
      "image/png": "[encoded data removed]",
      "text/plain": [
       "<matplotlib.figure.Figure at 0x1f3db523a20>"
      ]
     },
     "metadata": {},
     "output_type": "display_data"
    }
   ],
   "source": [
    "y = table1_cleaned['Genre']\n",
    "x = table1_cleaned['overall_rating_mean']\n",
    "std = table1_cleaned['overall_rating_std']\n",
    "xerr = 1.96*std/np.sqrt(table1_cleaned['sample_size']).values\n",
    "\n",
    "fig = plt.figure(figsize=(10,5))\n",
    "ax = sns.barplot(x, y, xerr=xerr, palette='GnBu_d')\n",
    "ax.set_xlabel('Average Rating')\n",
    "plt.show()"
   ]
  },
  {
   "cell_type": "markdown",
   "metadata": {},
   "source": [
    "A brief look at the ratings above, the average rating of the top 10 genres are all fairly close to each other. 'Thriller' animes are rated the highest on average, but the sample size is small (< 100). Maybe genre isn't the only thing we need to produce a high rated anime. This makes sense because an anime can have fit into many genres, or 'tags'. We need to pursue the question further. "
   ]
  },
  {
   "cell_type": "markdown",
   "metadata": {},
   "source": [
    "#### 6.2 - Number of genres and ratings\n",
    "\n",
    "Okay, maybe if an anime incorporates many genres, maybe that will improve the rating? Once again, we can query SQL to grab the information we need."
   ]
  },
  {
   "cell_type": "code",
   "execution_count": 22,
   "metadata": {},
   "outputs": [
    {
     "data": {
      "text/html": [
       "<div>\n",
       "<style scoped>\n",
       "    .dataframe tbody tr th:only-of-type {\n",
       "        vertical-align: middle;\n",
       "    }\n",
       "\n",
       "    .dataframe tbody tr th {\n",
       "        vertical-align: top;\n",
       "    }\n",
       "\n",
       "    .dataframe thead th {\n",
       "        text-align: right;\n",
       "    }\n",
       "</style>\n",
       "<table border=\"1\" class=\"dataframe\">\n",
       "  <thead>\n",
       "    <tr style=\"text-align: right;\">\n",
       "      <th></th>\n",
       "      <th>Number_of_genres</th>\n",
       "      <th>sample_size</th>\n",
       "      <th>Average_rating</th>\n",
       "    </tr>\n",
       "  </thead>\n",
       "  <tbody>\n",
       "    <tr>\n",
       "      <th>0</th>\n",
       "      <td>13</td>\n",
       "      <td>1</td>\n",
       "      <td>6.930000</td>\n",
       "    </tr>\n",
       "    <tr>\n",
       "      <th>1</th>\n",
       "      <td>7</td>\n",
       "      <td>255</td>\n",
       "      <td>6.880471</td>\n",
       "    </tr>\n",
       "    <tr>\n",
       "      <th>2</th>\n",
       "      <td>11</td>\n",
       "      <td>2</td>\n",
       "      <td>6.880000</td>\n",
       "    </tr>\n",
       "    <tr>\n",
       "      <th>3</th>\n",
       "      <td>10</td>\n",
       "      <td>15</td>\n",
       "      <td>6.808667</td>\n",
       "    </tr>\n",
       "    <tr>\n",
       "      <th>4</th>\n",
       "      <td>6</td>\n",
       "      <td>664</td>\n",
       "      <td>6.803449</td>\n",
       "    </tr>\n",
       "    <tr>\n",
       "      <th>5</th>\n",
       "      <td>8</td>\n",
       "      <td>79</td>\n",
       "      <td>6.783418</td>\n",
       "    </tr>\n",
       "    <tr>\n",
       "      <th>6</th>\n",
       "      <td>5</td>\n",
       "      <td>1424</td>\n",
       "      <td>6.540716</td>\n",
       "    </tr>\n",
       "    <tr>\n",
       "      <th>7</th>\n",
       "      <td>9</td>\n",
       "      <td>39</td>\n",
       "      <td>6.339744</td>\n",
       "    </tr>\n",
       "    <tr>\n",
       "      <th>8</th>\n",
       "      <td>4</td>\n",
       "      <td>2180</td>\n",
       "      <td>6.188445</td>\n",
       "    </tr>\n",
       "    <tr>\n",
       "      <th>9</th>\n",
       "      <td>3</td>\n",
       "      <td>2939</td>\n",
       "      <td>5.107383</td>\n",
       "    </tr>\n",
       "    <tr>\n",
       "      <th>10</th>\n",
       "      <td>1</td>\n",
       "      <td>3383</td>\n",
       "      <td>4.103320</td>\n",
       "    </tr>\n",
       "    <tr>\n",
       "      <th>11</th>\n",
       "      <td>2</td>\n",
       "      <td>3226</td>\n",
       "      <td>3.582502</td>\n",
       "    </tr>\n",
       "  </tbody>\n",
       "</table>\n",
       "</div>"
      ],
      "text/plain": [
       "    Number_of_genres  sample_size  Average_rating\n",
       "0                 13            1        6.930000\n",
       "1                  7          255        6.880471\n",
       "2                 11            2        6.880000\n",
       "3                 10           15        6.808667\n",
       "4                  6          664        6.803449\n",
       "5                  8           79        6.783418\n",
       "6                  5         1424        6.540716\n",
       "7                  9           39        6.339744\n",
       "8                  4         2180        6.188445\n",
       "9                  3         2939        5.107383\n",
       "10                 1         3383        4.103320\n",
       "11                 2         3226        3.582502"
      ]
     },
     "execution_count": 22,
     "metadata": {},
     "output_type": "execute_result"
    }
   ],
   "source": [
    "q2 = '''\n",
    "WITH anime_genre_counts AS\n",
    "    (SELECT\n",
    "        a.anime_id,\n",
    "        COUNT(at.anime_id) Number_of_genres,\n",
    "        AVG(a.overall_rating) overall_rating\n",
    "    FROM animes a\n",
    "    INNER JOIN anime_tags at ON a.anime_id = at.anime_id\n",
    "    INNER JOIN tags t ON at.tag_id = t.tag_id\n",
    "    GROUP BY 1\n",
    "    )\n",
    "\n",
    "SELECT\n",
    "    Number_of_genres,\n",
    "    COUNT(anime_id) sample_size,\n",
    "    AVG(overall_rating) Average_rating\n",
    "FROM anime_genre_counts\n",
    "GROUP BY 1\n",
    "ORDER BY 3 DESC\n",
    "'''\n",
    "\n",
    "table2 = run_query(DB, q2)\n",
    "table2"
   ]
  },
  {
   "cell_type": "markdown",
   "metadata": {},
   "source": [
    "It is hard to draw conclusions from this query. We see that animes with 1 or 2 genres tagged are all the way at the bottom. This is because unpopular animes do not get tagged as often. Whereas popular animes get tagged a lot more."
   ]
  },
  {
   "cell_type": "markdown",
   "metadata": {},
   "source": [
    "#### 6.3 - The highest rated studio\n",
    "\n",
    "Next we want to look for high rated studios. Once again, we'll use a SQL query. We also want to avoid looking up anime movies. So we'll set the episodes_total constraint to at least 10. We also want to avoid looking up studios that got lucky and produced a huge hit by pure chance, so we'll set the anime_produced constraint to at least 10 as well."
   ]
  },
  {
   "cell_type": "code",
   "execution_count": 23,
   "metadata": {},
   "outputs": [
    {
     "data": {
      "text/html": [
       "<div>\n",
       "<style scoped>\n",
       "    .dataframe tbody tr th:only-of-type {\n",
       "        vertical-align: middle;\n",
       "    }\n",
       "\n",
       "    .dataframe tbody tr th {\n",
       "        vertical-align: top;\n",
       "    }\n",
       "\n",
       "    .dataframe thead th {\n",
       "        text-align: right;\n",
       "    }\n",
       "</style>\n",
       "<table border=\"1\" class=\"dataframe\">\n",
       "  <thead>\n",
       "    <tr style=\"text-align: right;\">\n",
       "      <th></th>\n",
       "      <th>studio_name</th>\n",
       "      <th>animes_produced</th>\n",
       "      <th>average_ratings</th>\n",
       "    </tr>\n",
       "  </thead>\n",
       "  <tbody>\n",
       "    <tr>\n",
       "      <th>0</th>\n",
       "      <td>Tezuka_Productions</td>\n",
       "      <td>13</td>\n",
       "      <td>7.316154</td>\n",
       "    </tr>\n",
       "    <tr>\n",
       "      <th>1</th>\n",
       "      <td>Shaft</td>\n",
       "      <td>66</td>\n",
       "      <td>7.310758</td>\n",
       "    </tr>\n",
       "    <tr>\n",
       "      <th>2</th>\n",
       "      <td>Bones</td>\n",
       "      <td>73</td>\n",
       "      <td>7.307671</td>\n",
       "    </tr>\n",
       "    <tr>\n",
       "      <th>3</th>\n",
       "      <td>TYO_Animations</td>\n",
       "      <td>14</td>\n",
       "      <td>7.252857</td>\n",
       "    </tr>\n",
       "    <tr>\n",
       "      <th>4</th>\n",
       "      <td>Brains_Base</td>\n",
       "      <td>63</td>\n",
       "      <td>7.209841</td>\n",
       "    </tr>\n",
       "    <tr>\n",
       "      <th>5</th>\n",
       "      <td>Hal_Film_Maker</td>\n",
       "      <td>24</td>\n",
       "      <td>7.202083</td>\n",
       "    </tr>\n",
       "    <tr>\n",
       "      <th>6</th>\n",
       "      <td>Seven_Arcs</td>\n",
       "      <td>15</td>\n",
       "      <td>7.152000</td>\n",
       "    </tr>\n",
       "    <tr>\n",
       "      <th>7</th>\n",
       "      <td>Collaboration_Works</td>\n",
       "      <td>11</td>\n",
       "      <td>7.148182</td>\n",
       "    </tr>\n",
       "    <tr>\n",
       "      <th>8</th>\n",
       "      <td>Studio_Gokumi</td>\n",
       "      <td>18</td>\n",
       "      <td>7.140556</td>\n",
       "    </tr>\n",
       "    <tr>\n",
       "      <th>9</th>\n",
       "      <td>David_Production</td>\n",
       "      <td>18</td>\n",
       "      <td>7.133889</td>\n",
       "    </tr>\n",
       "  </tbody>\n",
       "</table>\n",
       "</div>"
      ],
      "text/plain": [
       "           studio_name  animes_produced  average_ratings\n",
       "0   Tezuka_Productions               13         7.316154\n",
       "1                Shaft               66         7.310758\n",
       "2                Bones               73         7.307671\n",
       "3       TYO_Animations               14         7.252857\n",
       "4          Brains_Base               63         7.209841\n",
       "5       Hal_Film_Maker               24         7.202083\n",
       "6           Seven_Arcs               15         7.152000\n",
       "7  Collaboration_Works               11         7.148182\n",
       "8        Studio_Gokumi               18         7.140556\n",
       "9     David_Production               18         7.133889"
      ]
     },
     "execution_count": 23,
     "metadata": {},
     "output_type": "execute_result"
    }
   ],
   "source": [
    "q3 = '''\n",
    "WITH anime_studios AS\n",
    "    (SELECT\n",
    "        s.studio_name,\n",
    "        COUNT(a.anime_id) animes_produced,\n",
    "        AVG(a.overall_rating) overall_rating,\n",
    "        episodes_total\n",
    "    FROM animes a\n",
    "    INNER JOIN studios s ON s.studio_id = a.studio_id\n",
    "    WHERE episodes_total > 10\n",
    "    GROUP BY 1\n",
    "    )\n",
    "\n",
    "SELECT\n",
    "    studio_name,\n",
    "    animes_produced,\n",
    "    overall_rating average_ratings\n",
    "FROM anime_studios\n",
    "WHERE animes_produced > 10\n",
    "ORDER BY average_ratings DESC\n",
    "LIMIT 10\n",
    "'''\n",
    "\n",
    "table3 = run_query(DB, q3)\n",
    "table3"
   ]
  },
  {
   "cell_type": "markdown",
   "metadata": {},
   "source": [
    "The number of animes these top studios produced are a bit on the low end. However, we should definitely look into studios like 'Shaft', 'Brains_base', and 'Bones'."
   ]
  },
  {
   "cell_type": "markdown",
   "metadata": {},
   "source": [
    "#### 6.4 - Source material and ratings"
   ]
  },
  {
   "cell_type": "code",
   "execution_count": 24,
   "metadata": {},
   "outputs": [
    {
     "data": {
      "text/html": [
       "<div>\n",
       "<style scoped>\n",
       "    .dataframe tbody tr th:only-of-type {\n",
       "        vertical-align: middle;\n",
       "    }\n",
       "\n",
       "    .dataframe tbody tr th {\n",
       "        vertical-align: top;\n",
       "    }\n",
       "\n",
       "    .dataframe thead th {\n",
       "        text-align: right;\n",
       "    }\n",
       "</style>\n",
       "<table border=\"1\" class=\"dataframe\">\n",
       "  <thead>\n",
       "    <tr style=\"text-align: right;\">\n",
       "      <th></th>\n",
       "      <th>source_material</th>\n",
       "      <th>sample_size</th>\n",
       "      <th>average_ratings</th>\n",
       "    </tr>\n",
       "  </thead>\n",
       "  <tbody>\n",
       "    <tr>\n",
       "      <th>0</th>\n",
       "      <td>Light novel</td>\n",
       "      <td>562</td>\n",
       "      <td>6.826477</td>\n",
       "    </tr>\n",
       "    <tr>\n",
       "      <th>1</th>\n",
       "      <td>Manga</td>\n",
       "      <td>3069</td>\n",
       "      <td>6.447520</td>\n",
       "    </tr>\n",
       "    <tr>\n",
       "      <th>2</th>\n",
       "      <td>Visual novel</td>\n",
       "      <td>883</td>\n",
       "      <td>6.430555</td>\n",
       "    </tr>\n",
       "    <tr>\n",
       "      <th>3</th>\n",
       "      <td>4-koma manga</td>\n",
       "      <td>220</td>\n",
       "      <td>6.025773</td>\n",
       "    </tr>\n",
       "    <tr>\n",
       "      <th>4</th>\n",
       "      <td>Novel</td>\n",
       "      <td>344</td>\n",
       "      <td>5.817006</td>\n",
       "    </tr>\n",
       "    <tr>\n",
       "      <th>5</th>\n",
       "      <td>Digital manga</td>\n",
       "      <td>8</td>\n",
       "      <td>5.801250</td>\n",
       "    </tr>\n",
       "    <tr>\n",
       "      <th>6</th>\n",
       "      <td>Card game</td>\n",
       "      <td>56</td>\n",
       "      <td>5.639464</td>\n",
       "    </tr>\n",
       "    <tr>\n",
       "      <th>7</th>\n",
       "      <td>Game</td>\n",
       "      <td>584</td>\n",
       "      <td>5.600051</td>\n",
       "    </tr>\n",
       "    <tr>\n",
       "      <th>8</th>\n",
       "      <td>Web manga</td>\n",
       "      <td>145</td>\n",
       "      <td>4.958828</td>\n",
       "    </tr>\n",
       "    <tr>\n",
       "      <th>9</th>\n",
       "      <td>Original</td>\n",
       "      <td>3236</td>\n",
       "      <td>4.331805</td>\n",
       "    </tr>\n",
       "  </tbody>\n",
       "</table>\n",
       "</div>"
      ],
      "text/plain": [
       "  source_material  sample_size  average_ratings\n",
       "0     Light novel          562         6.826477\n",
       "1           Manga         3069         6.447520\n",
       "2    Visual novel          883         6.430555\n",
       "3    4-koma manga          220         6.025773\n",
       "4           Novel          344         5.817006\n",
       "5   Digital manga            8         5.801250\n",
       "6       Card game           56         5.639464\n",
       "7            Game          584         5.600051\n",
       "8       Web manga          145         4.958828\n",
       "9        Original         3236         4.331805"
      ]
     },
     "execution_count": 24,
     "metadata": {},
     "output_type": "execute_result"
    }
   ],
   "source": [
    "q4 = '''\n",
    "SELECT\n",
    "    source_material,\n",
    "    COUNT(anime_id) sample_size,\n",
    "    AVG(overall_rating) average_ratings\n",
    "FROM animes\n",
    "GROUP BY source_material\n",
    "ORDER BY average_ratings DESC\n",
    "LIMIT 10\n",
    "'''\n",
    "\n",
    "table4 = run_query(DB, q4)\n",
    "table4"
   ]
  },
  {
   "cell_type": "code",
   "execution_count": 25,
   "metadata": {},
   "outputs": [
    {
     "data": {
      "image/png": "[encoded data removed]",
      "text/plain": [
       "<matplotlib.figure.Figure at 0x1f3dcf52ba8>"
      ]
     },
     "metadata": {},
     "output_type": "display_data"
    }
   ],
   "source": [
    "y = table4['source_material']\n",
    "x = table4['average_ratings']\n",
    "\n",
    "fig = plt.figure(figsize=(10,5))\n",
    "ax = sns.barplot(x, y, palette='GnBu_d')\n",
    "ax.set_xlabel('Average Rating')\n",
    "ax.set_ylabel('Source Material')\n",
    "plt.show()"
   ]
  },
  {
   "cell_type": "markdown",
   "metadata": {},
   "source": [
    "From the data above, we see that original series generally do not perform very well. Where as adaptations based on light novels, mangas, and visual novels tend to do a lot better. This is mainly due to the fact that adaptations based on other works already have a following to the series. It is much harder to obtain new viewers as an original series."
   ]
  },
  {
   "cell_type": "code",
   "execution_count": null,
   "metadata": {
    "collapsed": true
   },
   "outputs": [],
   "source": []
  }
 ],
 "metadata": {
  "kernelspec": {
   "display_name": "Python 3",
   "language": "python",
   "name": "python3"
  },
  "language_info": {
   "codemirror_mode": {
    "name": "ipython",
    "version": 3
   },
   "file_extension": ".py",
   "mimetype": "text/x-python",
   "name": "python",
   "nbconvert_exporter": "python",
   "pygments_lexer": "ipython3",
   "version": "3.5.4"
  }
 },
 "nbformat": 4,
 "nbformat_minor": 2
}
